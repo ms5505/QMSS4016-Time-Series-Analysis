{
 "cells": [
  {
   "cell_type": "markdown",
   "metadata": {},
   "source": [
    "# Class 2\n",
    "\n",
    "This jupyter notebook was written in python 3.6. \n",
    "\n",
    "First we import the core modules that will be used throughout this notebook:"
   ]
  },
  {
   "cell_type": "code",
   "execution_count": 2,
   "metadata": {},
   "outputs": [],
   "source": [
    "import pandas as pd\n",
    "import numpy as np\n",
    "import seaborn as sns\n",
    "import matplotlib.pyplot as plt\n",
    "%matplotlib inline"
   ]
  },
  {
   "cell_type": "markdown",
   "metadata": {},
   "source": [
    "## Recode *natcrime*"
   ]
  },
  {
   "cell_type": "code",
   "execution_count": 3,
   "metadata": {},
   "outputs": [],
   "source": [
    "# read in data from the trends-gss.csv file\n",
    "gss = pd.read_csv(\"trends-gss.csv\")"
   ]
  },
  {
   "cell_type": "code",
   "execution_count": 4,
   "metadata": {},
   "outputs": [],
   "source": [
    "# subset the data to only include the 'natcrime', 'year', 'sex' variables\n",
    "sub = gss[['natcrime', 'year', 'sex']]\n",
    "\n",
    "# remove missing values\n",
    "sub = sub.dropna()"
   ]
  },
  {
   "cell_type": "code",
   "execution_count": 5,
   "metadata": {},
   "outputs": [
    {
     "data": {
      "text/plain": [
       "1.0    21500\n",
       "2.0     8374\n",
       "3.0     1907\n",
       "Name: natcrime, dtype: int64"
      ]
     },
     "execution_count": 5,
     "metadata": {},
     "output_type": "execute_result"
    }
   ],
   "source": [
    "# display value frequencies\n",
    "sub['natcrime'].value_counts()"
   ]
  },
  {
   "cell_type": "code",
   "execution_count": 6,
   "metadata": {},
   "outputs": [],
   "source": [
    "# Reverse-code natcrime\n",
    "sub2 = sub\n",
    "sub2['natcrime'].replace([1, 3], [3, 1], inplace = True)"
   ]
  },
  {
   "cell_type": "code",
   "execution_count": 7,
   "metadata": {},
   "outputs": [
    {
     "data": {
      "text/plain": [
       "3.0    21500\n",
       "2.0     8374\n",
       "1.0     1907\n",
       "Name: natcrime, dtype: int64"
      ]
     },
     "execution_count": 7,
     "metadata": {},
     "output_type": "execute_result"
    }
   ],
   "source": [
    "# make sure reverse-code was done correctly\n",
    "sub2['natcrime'].value_counts()"
   ]
  },
  {
   "cell_type": "markdown",
   "metadata": {},
   "source": [
    "## Overall decline, esp. since 1996"
   ]
  },
  {
   "cell_type": "code",
   "execution_count": 8,
   "metadata": {},
   "outputs": [],
   "source": [
    "# calculate mean natcrime of each year\n",
    "by_year = sub2.groupby('year', as_index = False).agg({\"natcrime\": \"mean\"})\\\n",
    "          .rename(columns = {\"natcrime\": \"mean_natcrime\"})"
   ]
  },
  {
   "cell_type": "code",
   "execution_count": 48,
   "metadata": {},
   "outputs": [
    {
     "data": {
      "text/plain": [
       "<matplotlib.axes._subplots.AxesSubplot at 0x1127fec88>"
      ]
     },
     "execution_count": 48,
     "metadata": {},
     "output_type": "execute_result"
    },
    {
     "data": {
      "image/png": "[encoded data removed]",
      "text/plain": [
       "<Figure size 432x288 with 1 Axes>"
      ]
     },
     "metadata": {},
     "output_type": "display_data"
    }
   ],
   "source": [
    "# plot the trend using matplotlib \n",
    "by_year.plot(x = 'year', y = 'mean_natcrime', grid = True)\n",
    "\n",
    "# superimpose a fitted line using the seaborn package\n",
    "sns.regplot(x = 'year', y = 'mean_natcrime', data = by_year, \n",
    "            scatter = False, ci = None, fit_reg = True, color = 'm')"
   ]
  },
  {
   "cell_type": "markdown",
   "metadata": {},
   "source": [
    "## Super naive OLS \n",
    "\n",
    "(slide 22-23)   \n",
    "\n",
    "To obtain statistical test results in Python, we can use the `statsmodels` module, which allows you to use R-style formulas with `pandas` data frames to fit models."
   ]
  },
  {
   "cell_type": "code",
   "execution_count": 10,
   "metadata": {},
   "outputs": [
    {
     "data": {
      "text/html": [
       "<table class=\"simpletable\">\n",
       "<caption>OLS Regression Results</caption>\n",
       "<tr>\n",
       "  <th>Dep. Variable:</th>        <td>natcrime</td>     <th>  R-squared:         </th> <td>   0.004</td> \n",
       "</tr>\n",
       "<tr>\n",
       "  <th>Model:</th>                   <td>OLS</td>       <th>  Adj. R-squared:    </th> <td>   0.004</td> \n",
       "</tr>\n",
       "<tr>\n",
       "  <th>Method:</th>             <td>Least Squares</td>  <th>  F-statistic:       </th> <td>   134.1</td> \n",
       "</tr>\n",
       "<tr>\n",
       "  <th>Date:</th>             <td>Sun, 17 Jun 2018</td> <th>  Prob (F-statistic):</th> <td>6.01e-31</td> \n",
       "</tr>\n",
       "<tr>\n",
       "  <th>Time:</th>                 <td>10:56:24</td>     <th>  Log-Likelihood:    </th> <td> -28636.</td> \n",
       "</tr>\n",
       "<tr>\n",
       "  <th>No. Observations:</th>      <td> 31781</td>      <th>  AIC:               </th> <td>5.728e+04</td>\n",
       "</tr>\n",
       "<tr>\n",
       "  <th>Df Residuals:</th>          <td> 31779</td>      <th>  BIC:               </th> <td>5.729e+04</td>\n",
       "</tr>\n",
       "<tr>\n",
       "  <th>Df Model:</th>              <td>     1</td>      <th>                     </th>     <td> </td>    \n",
       "</tr>\n",
       "<tr>\n",
       "  <th>Covariance Type:</th>      <td>nonrobust</td>    <th>                     </th>     <td> </td>    \n",
       "</tr>\n",
       "</table>\n",
       "<table class=\"simpletable\">\n",
       "<tr>\n",
       "      <td></td>         <th>coef</th>     <th>std err</th>      <th>t</th>      <th>P>|t|</th>  <th>[0.025</th>    <th>0.975]</th>  \n",
       "</tr>\n",
       "<tr>\n",
       "  <th>Intercept</th> <td>    9.1007</td> <td>    0.560</td> <td>   16.252</td> <td> 0.000</td> <td>    8.003</td> <td>   10.198</td>\n",
       "</tr>\n",
       "<tr>\n",
       "  <th>year</th>      <td>   -0.0033</td> <td>    0.000</td> <td>  -11.580</td> <td> 0.000</td> <td>   -0.004</td> <td>   -0.003</td>\n",
       "</tr>\n",
       "</table>\n",
       "<table class=\"simpletable\">\n",
       "<tr>\n",
       "  <th>Omnibus:</th>       <td>5834.253</td> <th>  Durbin-Watson:     </th> <td>   1.950</td>\n",
       "</tr>\n",
       "<tr>\n",
       "  <th>Prob(Omnibus):</th>  <td> 0.000</td>  <th>  Jarque-Bera (JB):  </th> <td>9584.905</td>\n",
       "</tr>\n",
       "<tr>\n",
       "  <th>Skew:</th>           <td>-1.303</td>  <th>  Prob(JB):          </th> <td>    0.00</td>\n",
       "</tr>\n",
       "<tr>\n",
       "  <th>Kurtosis:</th>       <td> 3.670</td>  <th>  Cond. No.          </th> <td>3.33e+05</td>\n",
       "</tr>\n",
       "</table><br/><br/>Warnings:<br/>[1] Standard Errors assume that the covariance matrix of the errors is correctly specified.<br/>[2] The condition number is large, 3.33e+05. This might indicate that there are<br/>strong multicollinearity or other numerical problems."
      ],
      "text/plain": [
       "<class 'statsmodels.iolib.summary.Summary'>\n",
       "\"\"\"\n",
       "                            OLS Regression Results                            \n",
       "==============================================================================\n",
       "Dep. Variable:               natcrime   R-squared:                       0.004\n",
       "Model:                            OLS   Adj. R-squared:                  0.004\n",
       "Method:                 Least Squares   F-statistic:                     134.1\n",
       "Date:                Sun, 17 Jun 2018   Prob (F-statistic):           6.01e-31\n",
       "Time:                        10:56:24   Log-Likelihood:                -28636.\n",
       "No. Observations:               31781   AIC:                         5.728e+04\n",
       "Df Residuals:                   31779   BIC:                         5.729e+04\n",
       "Df Model:                           1                                         \n",
       "Covariance Type:            nonrobust                                         \n",
       "==============================================================================\n",
       "                 coef    std err          t      P>|t|      [0.025      0.975]\n",
       "------------------------------------------------------------------------------\n",
       "Intercept      9.1007      0.560     16.252      0.000       8.003      10.198\n",
       "year          -0.0033      0.000    -11.580      0.000      -0.004      -0.003\n",
       "==============================================================================\n",
       "Omnibus:                     5834.253   Durbin-Watson:                   1.950\n",
       "Prob(Omnibus):                  0.000   Jarque-Bera (JB):             9584.905\n",
       "Skew:                          -1.303   Prob(JB):                         0.00\n",
       "Kurtosis:                       3.670   Cond. No.                     3.33e+05\n",
       "==============================================================================\n",
       "\n",
       "Warnings:\n",
       "[1] Standard Errors assume that the covariance matrix of the errors is correctly specified.\n",
       "[2] The condition number is large, 3.33e+05. This might indicate that there are\n",
       "strong multicollinearity or other numerical problems.\n",
       "\"\"\""
      ]
     },
     "execution_count": 10,
     "metadata": {},
     "output_type": "execute_result"
    }
   ],
   "source": [
    "import statsmodels.api as sm\n",
    "import statsmodels.formula.api as smf\n",
    "\n",
    "# fit regression model\n",
    "lm_natcrime = smf.ols('natcrime ~ year', data = sub2).fit()\n",
    "lm_natcrime.summary()"
   ]
  },
  {
   "cell_type": "markdown",
   "metadata": {},
   "source": [
    "## Test for heteroskedasticity\n",
    "\n",
    "(slide 24, 29)  \n",
    "\n",
    "The `het_breuschpagan` function from the `statsmodels` module returns results of the Breush-Pagan test.    \n",
    "\n",
    "Since the function only returns a tuple of numbers, for presentation purposes, we need to use `lzip` to print short descriptions of the output. "
   ]
  },
  {
   "cell_type": "code",
   "execution_count": 11,
   "metadata": {},
   "outputs": [
    {
     "data": {
      "text/plain": [
       "[('Lagrange multiplier statistic', 14.741145773634136),\n",
       " ('p-value', 0.00012332531592446633),\n",
       " ('f-value', 14.747058307687062),\n",
       " ('f p-value', 0.00012317758185039995)]"
      ]
     },
     "execution_count": 11,
     "metadata": {},
     "output_type": "execute_result"
    }
   ],
   "source": [
    "from statsmodels.compat import lzip\n",
    "name = ['Lagrange multiplier statistic', 'p-value', \n",
    "        'f-value', 'f p-value']\n",
    "\n",
    "# use results of the model we fitted earlier\n",
    "test = sm.stats.diagnostic.het_breuschpagan(lm_natcrime.resid, lm_natcrime.model.exog)\n",
    "lzip(name, test)"
   ]
  },
  {
   "cell_type": "markdown",
   "metadata": {},
   "source": [
    "## Applying robust standard errors\n",
    "\n",
    "(slide 32)   \n",
    "\n",
    "To apply robust (Huber-White, sandwich) standard error, specify `cov_type = 'HC1'` when fitting the model"
   ]
  },
  {
   "cell_type": "code",
   "execution_count": 12,
   "metadata": {},
   "outputs": [
    {
     "data": {
      "text/html": [
       "<table class=\"simpletable\">\n",
       "<caption>OLS Regression Results</caption>\n",
       "<tr>\n",
       "  <th>Dep. Variable:</th>        <td>natcrime</td>     <th>  R-squared:         </th> <td>   0.004</td> \n",
       "</tr>\n",
       "<tr>\n",
       "  <th>Model:</th>                   <td>OLS</td>       <th>  Adj. R-squared:    </th> <td>   0.004</td> \n",
       "</tr>\n",
       "<tr>\n",
       "  <th>Method:</th>             <td>Least Squares</td>  <th>  F-statistic:       </th> <td>   129.3</td> \n",
       "</tr>\n",
       "<tr>\n",
       "  <th>Date:</th>             <td>Sun, 17 Jun 2018</td> <th>  Prob (F-statistic):</th> <td>6.72e-30</td> \n",
       "</tr>\n",
       "<tr>\n",
       "  <th>Time:</th>                 <td>10:56:31</td>     <th>  Log-Likelihood:    </th> <td> -28636.</td> \n",
       "</tr>\n",
       "<tr>\n",
       "  <th>No. Observations:</th>      <td> 31781</td>      <th>  AIC:               </th> <td>5.728e+04</td>\n",
       "</tr>\n",
       "<tr>\n",
       "  <th>Df Residuals:</th>          <td> 31779</td>      <th>  BIC:               </th> <td>5.729e+04</td>\n",
       "</tr>\n",
       "<tr>\n",
       "  <th>Df Model:</th>              <td>     1</td>      <th>                     </th>     <td> </td>    \n",
       "</tr>\n",
       "<tr>\n",
       "  <th>Covariance Type:</th>         <td>HC1</td>       <th>                     </th>     <td> </td>    \n",
       "</tr>\n",
       "</table>\n",
       "<table class=\"simpletable\">\n",
       "<tr>\n",
       "      <td></td>         <th>coef</th>     <th>std err</th>      <th>z</th>      <th>P>|z|</th>  <th>[0.025</th>    <th>0.975]</th>  \n",
       "</tr>\n",
       "<tr>\n",
       "  <th>Intercept</th> <td>    9.1007</td> <td>    0.570</td> <td>   15.961</td> <td> 0.000</td> <td>    7.983</td> <td>   10.218</td>\n",
       "</tr>\n",
       "<tr>\n",
       "  <th>year</th>      <td>   -0.0033</td> <td>    0.000</td> <td>  -11.370</td> <td> 0.000</td> <td>   -0.004</td> <td>   -0.003</td>\n",
       "</tr>\n",
       "</table>\n",
       "<table class=\"simpletable\">\n",
       "<tr>\n",
       "  <th>Omnibus:</th>       <td>5834.253</td> <th>  Durbin-Watson:     </th> <td>   1.950</td>\n",
       "</tr>\n",
       "<tr>\n",
       "  <th>Prob(Omnibus):</th>  <td> 0.000</td>  <th>  Jarque-Bera (JB):  </th> <td>9584.905</td>\n",
       "</tr>\n",
       "<tr>\n",
       "  <th>Skew:</th>           <td>-1.303</td>  <th>  Prob(JB):          </th> <td>    0.00</td>\n",
       "</tr>\n",
       "<tr>\n",
       "  <th>Kurtosis:</th>       <td> 3.670</td>  <th>  Cond. No.          </th> <td>3.33e+05</td>\n",
       "</tr>\n",
       "</table><br/><br/>Warnings:<br/>[1] Standard Errors are heteroscedasticity robust (HC1)<br/>[2] The condition number is large, 3.33e+05. This might indicate that there are<br/>strong multicollinearity or other numerical problems."
      ],
      "text/plain": [
       "<class 'statsmodels.iolib.summary.Summary'>\n",
       "\"\"\"\n",
       "                            OLS Regression Results                            \n",
       "==============================================================================\n",
       "Dep. Variable:               natcrime   R-squared:                       0.004\n",
       "Model:                            OLS   Adj. R-squared:                  0.004\n",
       "Method:                 Least Squares   F-statistic:                     129.3\n",
       "Date:                Sun, 17 Jun 2018   Prob (F-statistic):           6.72e-30\n",
       "Time:                        10:56:31   Log-Likelihood:                -28636.\n",
       "No. Observations:               31781   AIC:                         5.728e+04\n",
       "Df Residuals:                   31779   BIC:                         5.729e+04\n",
       "Df Model:                           1                                         \n",
       "Covariance Type:                  HC1                                         \n",
       "==============================================================================\n",
       "                 coef    std err          z      P>|z|      [0.025      0.975]\n",
       "------------------------------------------------------------------------------\n",
       "Intercept      9.1007      0.570     15.961      0.000       7.983      10.218\n",
       "year          -0.0033      0.000    -11.370      0.000      -0.004      -0.003\n",
       "==============================================================================\n",
       "Omnibus:                     5834.253   Durbin-Watson:                   1.950\n",
       "Prob(Omnibus):                  0.000   Jarque-Bera (JB):             9584.905\n",
       "Skew:                          -1.303   Prob(JB):                         0.00\n",
       "Kurtosis:                       3.670   Cond. No.                     3.33e+05\n",
       "==============================================================================\n",
       "\n",
       "Warnings:\n",
       "[1] Standard Errors are heteroscedasticity robust (HC1)\n",
       "[2] The condition number is large, 3.33e+05. This might indicate that there are\n",
       "strong multicollinearity or other numerical problems.\n",
       "\"\"\""
      ]
     },
     "execution_count": 12,
     "metadata": {},
     "output_type": "execute_result"
    }
   ],
   "source": [
    "lm_rob = smf.ols('natcrime ~ year', data = sub2).fit(cov_type = 'HC1')\n",
    "lm_rob.summary()"
   ]
  },
  {
   "cell_type": "markdown",
   "metadata": {},
   "source": [
    "## Treating year as dummy variables\n",
    "\n",
    "(slides 35 - 37)\n",
    "\n",
    "We can treat `year` as categorical variables using the `C()` operator in the OLS formula"
   ]
  },
  {
   "cell_type": "code",
   "execution_count": 13,
   "metadata": {},
   "outputs": [
    {
     "data": {
      "text/html": [
       "<table class=\"simpletable\">\n",
       "<caption>OLS Regression Results</caption>\n",
       "<tr>\n",
       "  <th>Dep. Variable:</th>        <td>natcrime</td>     <th>  R-squared:         </th> <td>   0.010</td> \n",
       "</tr>\n",
       "<tr>\n",
       "  <th>Model:</th>                   <td>OLS</td>       <th>  Adj. R-squared:    </th> <td>   0.009</td> \n",
       "</tr>\n",
       "<tr>\n",
       "  <th>Method:</th>             <td>Least Squares</td>  <th>  F-statistic:       </th> <td>   11.63</td> \n",
       "</tr>\n",
       "<tr>\n",
       "  <th>Date:</th>             <td>Sun, 17 Jun 2018</td> <th>  Prob (F-statistic):</th> <td>2.13e-50</td> \n",
       "</tr>\n",
       "<tr>\n",
       "  <th>Time:</th>                 <td>10:56:36</td>     <th>  Log-Likelihood:    </th> <td> -28546.</td> \n",
       "</tr>\n",
       "<tr>\n",
       "  <th>No. Observations:</th>      <td> 31781</td>      <th>  AIC:               </th> <td>5.715e+04</td>\n",
       "</tr>\n",
       "<tr>\n",
       "  <th>Df Residuals:</th>          <td> 31753</td>      <th>  BIC:               </th> <td>5.738e+04</td>\n",
       "</tr>\n",
       "<tr>\n",
       "  <th>Df Model:</th>              <td>    27</td>      <th>                     </th>     <td> </td>    \n",
       "</tr>\n",
       "<tr>\n",
       "  <th>Covariance Type:</th>      <td>nonrobust</td>    <th>                     </th>     <td> </td>    \n",
       "</tr>\n",
       "</table>\n",
       "<table class=\"simpletable\">\n",
       "<tr>\n",
       "         <td></td>            <th>coef</th>     <th>std err</th>      <th>t</th>      <th>P>|t|</th>  <th>[0.025</th>    <th>0.975]</th>  \n",
       "</tr>\n",
       "<tr>\n",
       "  <th>Intercept</th>       <td>    2.6384</td> <td>    0.016</td> <td>  166.395</td> <td> 0.000</td> <td>    2.607</td> <td>    2.670</td>\n",
       "</tr>\n",
       "<tr>\n",
       "  <th>C(year)[T.1974]</th> <td>    0.0128</td> <td>    0.022</td> <td>    0.571</td> <td> 0.568</td> <td>   -0.031</td> <td>    0.057</td>\n",
       "</tr>\n",
       "<tr>\n",
       "  <th>C(year)[T.1975]</th> <td>   -0.0006</td> <td>    0.022</td> <td>   -0.026</td> <td> 0.979</td> <td>   -0.045</td> <td>    0.043</td>\n",
       "</tr>\n",
       "<tr>\n",
       "  <th>C(year)[T.1976]</th> <td>   -0.0291</td> <td>    0.022</td> <td>   -1.299</td> <td> 0.194</td> <td>   -0.073</td> <td>    0.015</td>\n",
       "</tr>\n",
       "<tr>\n",
       "  <th>C(year)[T.1977]</th> <td>   -0.0011</td> <td>    0.022</td> <td>   -0.050</td> <td> 0.960</td> <td>   -0.045</td> <td>    0.043</td>\n",
       "</tr>\n",
       "<tr>\n",
       "  <th>C(year)[T.1978]</th> <td>   -0.0295</td> <td>    0.022</td> <td>   -1.329</td> <td> 0.184</td> <td>   -0.073</td> <td>    0.014</td>\n",
       "</tr>\n",
       "<tr>\n",
       "  <th>C(year)[T.1980]</th> <td>    0.0187</td> <td>    0.022</td> <td>    0.834</td> <td> 0.405</td> <td>   -0.025</td> <td>    0.063</td>\n",
       "</tr>\n",
       "<tr>\n",
       "  <th>C(year)[T.1982]</th> <td>    0.0607</td> <td>    0.021</td> <td>    2.856</td> <td> 0.004</td> <td>    0.019</td> <td>    0.102</td>\n",
       "</tr>\n",
       "<tr>\n",
       "  <th>C(year)[T.1983]</th> <td>    0.0085</td> <td>    0.022</td> <td>    0.387</td> <td> 0.699</td> <td>   -0.035</td> <td>    0.052</td>\n",
       "</tr>\n",
       "<tr>\n",
       "  <th>C(year)[T.1984]</th> <td>    0.0140</td> <td>    0.032</td> <td>    0.442</td> <td> 0.658</td> <td>   -0.048</td> <td>    0.076</td>\n",
       "</tr>\n",
       "<tr>\n",
       "  <th>C(year)[T.1985]</th> <td>   -0.0409</td> <td>    0.027</td> <td>   -1.502</td> <td> 0.133</td> <td>   -0.094</td> <td>    0.013</td>\n",
       "</tr>\n",
       "<tr>\n",
       "  <th>C(year)[T.1986]</th> <td>   -0.0194</td> <td>    0.028</td> <td>   -0.703</td> <td> 0.482</td> <td>   -0.073</td> <td>    0.035</td>\n",
       "</tr>\n",
       "<tr>\n",
       "  <th>C(year)[T.1987]</th> <td>    0.0393</td> <td>    0.029</td> <td>    1.334</td> <td> 0.182</td> <td>   -0.018</td> <td>    0.097</td>\n",
       "</tr>\n",
       "<tr>\n",
       "  <th>C(year)[T.1988]</th> <td>    0.0361</td> <td>    0.028</td> <td>    1.299</td> <td> 0.194</td> <td>   -0.018</td> <td>    0.091</td>\n",
       "</tr>\n",
       "<tr>\n",
       "  <th>C(year)[T.1989]</th> <td>    0.0612</td> <td>    0.027</td> <td>    2.264</td> <td> 0.024</td> <td>    0.008</td> <td>    0.114</td>\n",
       "</tr>\n",
       "<tr>\n",
       "  <th>C(year)[T.1990]</th> <td>    0.0485</td> <td>    0.028</td> <td>    1.712</td> <td> 0.087</td> <td>   -0.007</td> <td>    0.104</td>\n",
       "</tr>\n",
       "<tr>\n",
       "  <th>C(year)[T.1991]</th> <td>   -0.0188</td> <td>    0.027</td> <td>   -0.691</td> <td> 0.490</td> <td>   -0.072</td> <td>    0.035</td>\n",
       "</tr>\n",
       "<tr>\n",
       "  <th>C(year)[T.1993]</th> <td>    0.0465</td> <td>    0.027</td> <td>    1.742</td> <td> 0.081</td> <td>   -0.006</td> <td>    0.099</td>\n",
       "</tr>\n",
       "<tr>\n",
       "  <th>C(year)[T.1994]</th> <td>    0.0701</td> <td>    0.022</td> <td>    3.158</td> <td> 0.002</td> <td>    0.027</td> <td>    0.114</td>\n",
       "</tr>\n",
       "<tr>\n",
       "  <th>C(year)[T.1996]</th> <td>   -0.0149</td> <td>    0.022</td> <td>   -0.662</td> <td> 0.508</td> <td>   -0.059</td> <td>    0.029</td>\n",
       "</tr>\n",
       "<tr>\n",
       "  <th>C(year)[T.1998]</th> <td>   -0.0775</td> <td>    0.023</td> <td>   -3.410</td> <td> 0.001</td> <td>   -0.122</td> <td>   -0.033</td>\n",
       "</tr>\n",
       "<tr>\n",
       "  <th>C(year)[T.2000]</th> <td>   -0.0850</td> <td>    0.023</td> <td>   -3.758</td> <td> 0.000</td> <td>   -0.129</td> <td>   -0.041</td>\n",
       "</tr>\n",
       "<tr>\n",
       "  <th>C(year)[T.2002]</th> <td>   -0.1328</td> <td>    0.023</td> <td>   -5.828</td> <td> 0.000</td> <td>   -0.177</td> <td>   -0.088</td>\n",
       "</tr>\n",
       "<tr>\n",
       "  <th>C(year)[T.2004]</th> <td>   -0.1053</td> <td>    0.023</td> <td>   -4.656</td> <td> 0.000</td> <td>   -0.150</td> <td>   -0.061</td>\n",
       "</tr>\n",
       "<tr>\n",
       "  <th>C(year)[T.2006]</th> <td>   -0.0846</td> <td>    0.022</td> <td>   -3.799</td> <td> 0.000</td> <td>   -0.128</td> <td>   -0.041</td>\n",
       "</tr>\n",
       "<tr>\n",
       "  <th>C(year)[T.2008]</th> <td>   -0.0861</td> <td>    0.025</td> <td>   -3.465</td> <td> 0.001</td> <td>   -0.135</td> <td>   -0.037</td>\n",
       "</tr>\n",
       "<tr>\n",
       "  <th>C(year)[T.2010]</th> <td>   -0.1180</td> <td>    0.025</td> <td>   -4.771</td> <td> 0.000</td> <td>   -0.167</td> <td>   -0.070</td>\n",
       "</tr>\n",
       "<tr>\n",
       "  <th>C(year)[T.2012]</th> <td>   -0.1124</td> <td>    0.025</td> <td>   -4.516</td> <td> 0.000</td> <td>   -0.161</td> <td>   -0.064</td>\n",
       "</tr>\n",
       "</table>\n",
       "<table class=\"simpletable\">\n",
       "<tr>\n",
       "  <th>Omnibus:</th>       <td>5862.026</td> <th>  Durbin-Watson:     </th> <td>   1.961</td>\n",
       "</tr>\n",
       "<tr>\n",
       "  <th>Prob(Omnibus):</th>  <td> 0.000</td>  <th>  Jarque-Bera (JB):  </th> <td>9648.903</td>\n",
       "</tr>\n",
       "<tr>\n",
       "  <th>Skew:</th>           <td>-1.302</td>  <th>  Prob(JB):          </th> <td>    0.00</td>\n",
       "</tr>\n",
       "<tr>\n",
       "  <th>Kurtosis:</th>       <td> 3.708</td>  <th>  Cond. No.          </th> <td>    26.3</td>\n",
       "</tr>\n",
       "</table><br/><br/>Warnings:<br/>[1] Standard Errors assume that the covariance matrix of the errors is correctly specified."
      ],
      "text/plain": [
       "<class 'statsmodels.iolib.summary.Summary'>\n",
       "\"\"\"\n",
       "                            OLS Regression Results                            \n",
       "==============================================================================\n",
       "Dep. Variable:               natcrime   R-squared:                       0.010\n",
       "Model:                            OLS   Adj. R-squared:                  0.009\n",
       "Method:                 Least Squares   F-statistic:                     11.63\n",
       "Date:                Sun, 17 Jun 2018   Prob (F-statistic):           2.13e-50\n",
       "Time:                        10:56:36   Log-Likelihood:                -28546.\n",
       "No. Observations:               31781   AIC:                         5.715e+04\n",
       "Df Residuals:                   31753   BIC:                         5.738e+04\n",
       "Df Model:                          27                                         \n",
       "Covariance Type:            nonrobust                                         \n",
       "===================================================================================\n",
       "                      coef    std err          t      P>|t|      [0.025      0.975]\n",
       "-----------------------------------------------------------------------------------\n",
       "Intercept           2.6384      0.016    166.395      0.000       2.607       2.670\n",
       "C(year)[T.1974]     0.0128      0.022      0.571      0.568      -0.031       0.057\n",
       "C(year)[T.1975]    -0.0006      0.022     -0.026      0.979      -0.045       0.043\n",
       "C(year)[T.1976]    -0.0291      0.022     -1.299      0.194      -0.073       0.015\n",
       "C(year)[T.1977]    -0.0011      0.022     -0.050      0.960      -0.045       0.043\n",
       "C(year)[T.1978]    -0.0295      0.022     -1.329      0.184      -0.073       0.014\n",
       "C(year)[T.1980]     0.0187      0.022      0.834      0.405      -0.025       0.063\n",
       "C(year)[T.1982]     0.0607      0.021      2.856      0.004       0.019       0.102\n",
       "C(year)[T.1983]     0.0085      0.022      0.387      0.699      -0.035       0.052\n",
       "C(year)[T.1984]     0.0140      0.032      0.442      0.658      -0.048       0.076\n",
       "C(year)[T.1985]    -0.0409      0.027     -1.502      0.133      -0.094       0.013\n",
       "C(year)[T.1986]    -0.0194      0.028     -0.703      0.482      -0.073       0.035\n",
       "C(year)[T.1987]     0.0393      0.029      1.334      0.182      -0.018       0.097\n",
       "C(year)[T.1988]     0.0361      0.028      1.299      0.194      -0.018       0.091\n",
       "C(year)[T.1989]     0.0612      0.027      2.264      0.024       0.008       0.114\n",
       "C(year)[T.1990]     0.0485      0.028      1.712      0.087      -0.007       0.104\n",
       "C(year)[T.1991]    -0.0188      0.027     -0.691      0.490      -0.072       0.035\n",
       "C(year)[T.1993]     0.0465      0.027      1.742      0.081      -0.006       0.099\n",
       "C(year)[T.1994]     0.0701      0.022      3.158      0.002       0.027       0.114\n",
       "C(year)[T.1996]    -0.0149      0.022     -0.662      0.508      -0.059       0.029\n",
       "C(year)[T.1998]    -0.0775      0.023     -3.410      0.001      -0.122      -0.033\n",
       "C(year)[T.2000]    -0.0850      0.023     -3.758      0.000      -0.129      -0.041\n",
       "C(year)[T.2002]    -0.1328      0.023     -5.828      0.000      -0.177      -0.088\n",
       "C(year)[T.2004]    -0.1053      0.023     -4.656      0.000      -0.150      -0.061\n",
       "C(year)[T.2006]    -0.0846      0.022     -3.799      0.000      -0.128      -0.041\n",
       "C(year)[T.2008]    -0.0861      0.025     -3.465      0.001      -0.135      -0.037\n",
       "C(year)[T.2010]    -0.1180      0.025     -4.771      0.000      -0.167      -0.070\n",
       "C(year)[T.2012]    -0.1124      0.025     -4.516      0.000      -0.161      -0.064\n",
       "==============================================================================\n",
       "Omnibus:                     5862.026   Durbin-Watson:                   1.961\n",
       "Prob(Omnibus):                  0.000   Jarque-Bera (JB):             9648.903\n",
       "Skew:                          -1.302   Prob(JB):                         0.00\n",
       "Kurtosis:                       3.708   Cond. No.                         26.3\n",
       "==============================================================================\n",
       "\n",
       "Warnings:\n",
       "[1] Standard Errors assume that the covariance matrix of the errors is correctly specified.\n",
       "\"\"\""
      ]
     },
     "execution_count": 13,
     "metadata": {},
     "output_type": "execute_result"
    }
   ],
   "source": [
    "# refit model using 'year' as dummy variable\n",
    "lm_natcrime2 = smf.ols('natcrime ~ C(year)', data = sub2).fit()\n",
    "lm_natcrime2.summary()"
   ]
  },
  {
   "cell_type": "markdown",
   "metadata": {},
   "source": [
    "## Linear hypothesis test \n",
    "\n",
    "(slide 40)\n",
    "\n",
    "Using the fitted model and specify the hypothesis test as a string"
   ]
  },
  {
   "cell_type": "code",
   "execution_count": 14,
   "metadata": {},
   "outputs": [
    {
     "data": {
      "text/plain": [
       "<class 'statsmodels.stats.contrast.ContrastResults'>\n",
       "<F test: F=array([[2.61914336]]), p=0.10559135759522265, df_denom=31753, df_num=1>"
      ]
     },
     "execution_count": 14,
     "metadata": {},
     "output_type": "execute_result"
    }
   ],
   "source": [
    "hypothesis = '(C(year)[T.1998] = C(year)[T.2010])'\n",
    "f_test = lm_natcrime2.f_test(hypothesis)\n",
    "f_test"
   ]
  },
  {
   "cell_type": "markdown",
   "metadata": {},
   "source": [
    "p-value of 0.1056 indicates no change between crime rate in 1998 vs. 2010"
   ]
  },
  {
   "cell_type": "markdown",
   "metadata": {},
   "source": [
    "## Periodization option \n",
    "\n",
    "(slide 41)"
   ]
  },
  {
   "cell_type": "code",
   "execution_count": 15,
   "metadata": {},
   "outputs": [],
   "source": [
    "# Create a dummy variable `late` for years after 1996 as 1 and otherwise 0\n",
    "sub2['late'] = ((sub2.year > 1996)).astype(int)"
   ]
  },
  {
   "cell_type": "code",
   "execution_count": 16,
   "metadata": {},
   "outputs": [
    {
     "data": {
      "text/html": [
       "<table class=\"simpletable\">\n",
       "<caption>OLS Regression Results</caption>\n",
       "<tr>\n",
       "  <th>Dep. Variable:</th>        <td>natcrime</td>     <th>  R-squared:         </th> <td>   0.007</td> \n",
       "</tr>\n",
       "<tr>\n",
       "  <th>Model:</th>                   <td>OLS</td>       <th>  Adj. R-squared:    </th> <td>   0.007</td> \n",
       "</tr>\n",
       "<tr>\n",
       "  <th>Method:</th>             <td>Least Squares</td>  <th>  F-statistic:       </th> <td>   237.4</td> \n",
       "</tr>\n",
       "<tr>\n",
       "  <th>Date:</th>             <td>Sun, 17 Jun 2018</td> <th>  Prob (F-statistic):</th> <td>2.29e-53</td> \n",
       "</tr>\n",
       "<tr>\n",
       "  <th>Time:</th>                 <td>10:56:45</td>     <th>  Log-Likelihood:    </th> <td> -28584.</td> \n",
       "</tr>\n",
       "<tr>\n",
       "  <th>No. Observations:</th>      <td> 31781</td>      <th>  AIC:               </th> <td>5.717e+04</td>\n",
       "</tr>\n",
       "<tr>\n",
       "  <th>Df Residuals:</th>          <td> 31779</td>      <th>  BIC:               </th> <td>5.719e+04</td>\n",
       "</tr>\n",
       "<tr>\n",
       "  <th>Df Model:</th>              <td>     1</td>      <th>                     </th>     <td> </td>    \n",
       "</tr>\n",
       "<tr>\n",
       "  <th>Covariance Type:</th>      <td>nonrobust</td>    <th>                     </th>     <td> </td>    \n",
       "</tr>\n",
       "</table>\n",
       "<table class=\"simpletable\">\n",
       "<tr>\n",
       "      <td></td>         <th>coef</th>     <th>std err</th>      <th>t</th>      <th>P>|t|</th>  <th>[0.025</th>    <th>0.975]</th>  \n",
       "</tr>\n",
       "<tr>\n",
       "  <th>Intercept</th> <td>    2.6506</td> <td>    0.004</td> <td>  661.883</td> <td> 0.000</td> <td>    2.643</td> <td>    2.658</td>\n",
       "</tr>\n",
       "<tr>\n",
       "  <th>late</th>      <td>   -0.1116</td> <td>    0.007</td> <td>  -15.407</td> <td> 0.000</td> <td>   -0.126</td> <td>   -0.097</td>\n",
       "</tr>\n",
       "</table>\n",
       "<table class=\"simpletable\">\n",
       "<tr>\n",
       "  <th>Omnibus:</th>       <td>5857.826</td> <th>  Durbin-Watson:     </th> <td>   1.956</td>\n",
       "</tr>\n",
       "<tr>\n",
       "  <th>Prob(Omnibus):</th>  <td> 0.000</td>  <th>  Jarque-Bera (JB):  </th> <td>9639.516</td>\n",
       "</tr>\n",
       "<tr>\n",
       "  <th>Skew:</th>           <td>-1.304</td>  <th>  Prob(JB):          </th> <td>    0.00</td>\n",
       "</tr>\n",
       "<tr>\n",
       "  <th>Kurtosis:</th>       <td> 3.695</td>  <th>  Cond. No.          </th> <td>    2.42</td>\n",
       "</tr>\n",
       "</table><br/><br/>Warnings:<br/>[1] Standard Errors assume that the covariance matrix of the errors is correctly specified."
      ],
      "text/plain": [
       "<class 'statsmodels.iolib.summary.Summary'>\n",
       "\"\"\"\n",
       "                            OLS Regression Results                            \n",
       "==============================================================================\n",
       "Dep. Variable:               natcrime   R-squared:                       0.007\n",
       "Model:                            OLS   Adj. R-squared:                  0.007\n",
       "Method:                 Least Squares   F-statistic:                     237.4\n",
       "Date:                Sun, 17 Jun 2018   Prob (F-statistic):           2.29e-53\n",
       "Time:                        10:56:45   Log-Likelihood:                -28584.\n",
       "No. Observations:               31781   AIC:                         5.717e+04\n",
       "Df Residuals:                   31779   BIC:                         5.719e+04\n",
       "Df Model:                           1                                         \n",
       "Covariance Type:            nonrobust                                         \n",
       "==============================================================================\n",
       "                 coef    std err          t      P>|t|      [0.025      0.975]\n",
       "------------------------------------------------------------------------------\n",
       "Intercept      2.6506      0.004    661.883      0.000       2.643       2.658\n",
       "late          -0.1116      0.007    -15.407      0.000      -0.126      -0.097\n",
       "==============================================================================\n",
       "Omnibus:                     5857.826   Durbin-Watson:                   1.956\n",
       "Prob(Omnibus):                  0.000   Jarque-Bera (JB):             9639.516\n",
       "Skew:                          -1.304   Prob(JB):                         0.00\n",
       "Kurtosis:                       3.695   Cond. No.                         2.42\n",
       "==============================================================================\n",
       "\n",
       "Warnings:\n",
       "[1] Standard Errors assume that the covariance matrix of the errors is correctly specified.\n",
       "\"\"\""
      ]
     },
     "execution_count": 16,
     "metadata": {},
     "output_type": "execute_result"
    }
   ],
   "source": [
    "# Fit periodization model\n",
    "lm_natcrime_period = smf.ols('natcrime ~ late', data = sub2).fit()\n",
    "lm_natcrime_period.summary()"
   ]
  },
  {
   "cell_type": "markdown",
   "metadata": {},
   "source": [
    "## Quadratic trend\n",
    "\n",
    "(slides 43 - 45)"
   ]
  },
  {
   "cell_type": "code",
   "execution_count": 49,
   "metadata": {},
   "outputs": [
    {
     "data": {
      "text/plain": [
       "<matplotlib.axes._subplots.AxesSubplot at 0x112af7748>"
      ]
     },
     "execution_count": 49,
     "metadata": {},
     "output_type": "execute_result"
    },
    {
     "data": {
      "image/png": "[encoded data removed]",
      "text/plain": [
       "<Figure size 432x288 with 1 Axes>"
      ]
     },
     "metadata": {},
     "output_type": "display_data"
    }
   ],
   "source": [
    "# plot the trend using matplotlib \n",
    "by_year.plot(x = 'year', y = 'mean_natcrime', grid = True)\n",
    "\n",
    "# superimpose a quadratic fitted line using the seaborn package, specifying 'order = 2' for quadratic fit\n",
    "sns.regplot(x = 'year', y = 'mean_natcrime', data = by_year, order = 2,\n",
    "            scatter = False, ci = None, fit_reg = True, color = 'm')"
   ]
  },
  {
   "cell_type": "markdown",
   "metadata": {},
   "source": [
    "## Testing for polynomials\n",
    "\n",
    "(slide 46)\n",
    "\n",
    "The RESET test, also known as Ramsey's REST test, is available in the `statsmodels` module as `reset_ramsey`."
   ]
  },
  {
   "cell_type": "code",
   "execution_count": 18,
   "metadata": {},
   "outputs": [
    {
     "data": {
      "text/plain": [
       "<class 'statsmodels.stats.contrast.ContrastResults'>\n",
       "<F test: F=array([[33.7581729]]), p=2.2623761129550144e-15, df_denom=31777, df_num=2>"
      ]
     },
     "execution_count": 18,
     "metadata": {},
     "output_type": "execute_result"
    }
   ],
   "source": [
    "from statsmodels.stats.outliers_influence import reset_ramsey\n",
    "reset_ramsey(lm_natcrime, degree = 3)"
   ]
  },
  {
   "cell_type": "markdown",
   "metadata": {},
   "source": [
    "## Testing for quadratic relationship\n",
    "\n",
    "(slide 48)"
   ]
  },
  {
   "cell_type": "code",
   "execution_count": 19,
   "metadata": {},
   "outputs": [
    {
     "data": {
      "text/html": [
       "<table class=\"simpletable\">\n",
       "<caption>OLS Regression Results</caption>\n",
       "<tr>\n",
       "  <th>Dep. Variable:</th>        <td>natcrime</td>     <th>  R-squared:         </th> <td>   0.006</td> \n",
       "</tr>\n",
       "<tr>\n",
       "  <th>Model:</th>                   <td>OLS</td>       <th>  Adj. R-squared:    </th> <td>   0.006</td> \n",
       "</tr>\n",
       "<tr>\n",
       "  <th>Method:</th>             <td>Least Squares</td>  <th>  F-statistic:       </th> <td>   95.06</td> \n",
       "</tr>\n",
       "<tr>\n",
       "  <th>Date:</th>             <td>Sun, 17 Jun 2018</td> <th>  Prob (F-statistic):</th> <td>6.89e-42</td> \n",
       "</tr>\n",
       "<tr>\n",
       "  <th>Time:</th>                 <td>10:56:51</td>     <th>  Log-Likelihood:    </th> <td> -28608.</td> \n",
       "</tr>\n",
       "<tr>\n",
       "  <th>No. Observations:</th>      <td> 31781</td>      <th>  AIC:               </th> <td>5.722e+04</td>\n",
       "</tr>\n",
       "<tr>\n",
       "  <th>Df Residuals:</th>          <td> 31778</td>      <th>  BIC:               </th> <td>5.725e+04</td>\n",
       "</tr>\n",
       "<tr>\n",
       "  <th>Df Model:</th>              <td>     2</td>      <th>                     </th>     <td> </td>    \n",
       "</tr>\n",
       "<tr>\n",
       "  <th>Covariance Type:</th>      <td>nonrobust</td>    <th>                     </th>     <td> </td>    \n",
       "</tr>\n",
       "</table>\n",
       "<table class=\"simpletable\">\n",
       "<tr>\n",
       "         <td></td>            <th>coef</th>     <th>std err</th>      <th>t</th>      <th>P>|t|</th>  <th>[0.025</th>    <th>0.975]</th>  \n",
       "</tr>\n",
       "<tr>\n",
       "  <th>Intercept</th>       <td> -820.6841</td> <td>  111.087</td> <td>   -7.388</td> <td> 0.000</td> <td>-1038.419</td> <td> -602.949</td>\n",
       "</tr>\n",
       "<tr>\n",
       "  <th>year</th>            <td>    0.8302</td> <td>    0.112</td> <td>    7.441</td> <td> 0.000</td> <td>    0.612</td> <td>    1.049</td>\n",
       "</tr>\n",
       "<tr>\n",
       "  <th>np.square(year)</th> <td>   -0.0002</td> <td>  2.8e-05</td> <td>   -7.470</td> <td> 0.000</td> <td>   -0.000</td> <td>   -0.000</td>\n",
       "</tr>\n",
       "</table>\n",
       "<table class=\"simpletable\">\n",
       "<tr>\n",
       "  <th>Omnibus:</th>       <td>5837.624</td> <th>  Durbin-Watson:     </th> <td>   1.954</td>\n",
       "</tr>\n",
       "<tr>\n",
       "  <th>Prob(Omnibus):</th>  <td> 0.000</td>  <th>  Jarque-Bera (JB):  </th> <td>9592.091</td>\n",
       "</tr>\n",
       "<tr>\n",
       "  <th>Skew:</th>           <td>-1.302</td>  <th>  Prob(JB):          </th> <td>    0.00</td>\n",
       "</tr>\n",
       "<tr>\n",
       "  <th>Kurtosis:</th>       <td> 3.680</td>  <th>  Cond. No.          </th> <td>1.32e+11</td>\n",
       "</tr>\n",
       "</table><br/><br/>Warnings:<br/>[1] Standard Errors assume that the covariance matrix of the errors is correctly specified.<br/>[2] The condition number is large, 1.32e+11. This might indicate that there are<br/>strong multicollinearity or other numerical problems."
      ],
      "text/plain": [
       "<class 'statsmodels.iolib.summary.Summary'>\n",
       "\"\"\"\n",
       "                            OLS Regression Results                            \n",
       "==============================================================================\n",
       "Dep. Variable:               natcrime   R-squared:                       0.006\n",
       "Model:                            OLS   Adj. R-squared:                  0.006\n",
       "Method:                 Least Squares   F-statistic:                     95.06\n",
       "Date:                Sun, 17 Jun 2018   Prob (F-statistic):           6.89e-42\n",
       "Time:                        10:56:51   Log-Likelihood:                -28608.\n",
       "No. Observations:               31781   AIC:                         5.722e+04\n",
       "Df Residuals:                   31778   BIC:                         5.725e+04\n",
       "Df Model:                           2                                         \n",
       "Covariance Type:            nonrobust                                         \n",
       "===================================================================================\n",
       "                      coef    std err          t      P>|t|      [0.025      0.975]\n",
       "-----------------------------------------------------------------------------------\n",
       "Intercept        -820.6841    111.087     -7.388      0.000   -1038.419    -602.949\n",
       "year                0.8302      0.112      7.441      0.000       0.612       1.049\n",
       "np.square(year)    -0.0002    2.8e-05     -7.470      0.000      -0.000      -0.000\n",
       "==============================================================================\n",
       "Omnibus:                     5837.624   Durbin-Watson:                   1.954\n",
       "Prob(Omnibus):                  0.000   Jarque-Bera (JB):             9592.091\n",
       "Skew:                          -1.302   Prob(JB):                         0.00\n",
       "Kurtosis:                       3.680   Cond. No.                     1.32e+11\n",
       "==============================================================================\n",
       "\n",
       "Warnings:\n",
       "[1] Standard Errors assume that the covariance matrix of the errors is correctly specified.\n",
       "[2] The condition number is large, 1.32e+11. This might indicate that there are\n",
       "strong multicollinearity or other numerical problems.\n",
       "\"\"\""
      ]
     },
     "execution_count": 19,
     "metadata": {},
     "output_type": "execute_result"
    }
   ],
   "source": [
    "lm_natcrimesq = smf.ols('natcrime ~ year + np.square(year)', data = sub2).fit()\n",
    "lm_natcrimesq.summary()"
   ]
  },
  {
   "cell_type": "markdown",
   "metadata": {},
   "source": [
    "## Cubic trend\n",
    "\n",
    "(slides 51-52)"
   ]
  },
  {
   "cell_type": "code",
   "execution_count": 50,
   "metadata": {},
   "outputs": [
    {
     "data": {
      "text/plain": [
       "<matplotlib.axes._subplots.AxesSubplot at 0x112b01cc0>"
      ]
     },
     "execution_count": 50,
     "metadata": {},
     "output_type": "execute_result"
    },
    {
     "data": {
      "image/png": "[encoded data removed]",
      "text/plain": [
       "<Figure size 432x288 with 1 Axes>"
      ]
     },
     "metadata": {},
     "output_type": "display_data"
    }
   ],
   "source": [
    "# plot the trend using matplotlib \n",
    "by_year.plot(x = 'year', y = 'mean_natcrime', grid = True)\n",
    "\n",
    "# superimpose a quadratic fitted line using the seaborn package, specifying 'order = 3' for cubic fit\n",
    "sns.regplot(x = 'year', y = 'mean_natcrime', data = by_year, order = 3,\n",
    "            scatter = False, ci = None, fit_reg = True, color = 'm')"
   ]
  },
  {
   "cell_type": "markdown",
   "metadata": {},
   "source": [
    "## Cubic relationship (WRONG RESULTS)\n",
    "\n",
    "(slide 53)"
   ]
  },
  {
   "cell_type": "code",
   "execution_count": 21,
   "metadata": {},
   "outputs": [
    {
     "data": {
      "text/html": [
       "<table class=\"simpletable\">\n",
       "<caption>OLS Regression Results</caption>\n",
       "<tr>\n",
       "  <th>Dep. Variable:</th>        <td>natcrime</td>     <th>  R-squared:         </th> <td>   0.006</td> \n",
       "</tr>\n",
       "<tr>\n",
       "  <th>Model:</th>                   <td>OLS</td>       <th>  Adj. R-squared:    </th> <td>   0.006</td> \n",
       "</tr>\n",
       "<tr>\n",
       "  <th>Method:</th>             <td>Least Squares</td>  <th>  F-statistic:       </th> <td>   94.93</td> \n",
       "</tr>\n",
       "<tr>\n",
       "  <th>Date:</th>             <td>Sun, 17 Jun 2018</td> <th>  Prob (F-statistic):</th> <td>7.86e-42</td> \n",
       "</tr>\n",
       "<tr>\n",
       "  <th>Time:</th>                 <td>10:56:56</td>     <th>  Log-Likelihood:    </th> <td> -28608.</td> \n",
       "</tr>\n",
       "<tr>\n",
       "  <th>No. Observations:</th>      <td> 31781</td>      <th>  AIC:               </th> <td>5.722e+04</td>\n",
       "</tr>\n",
       "<tr>\n",
       "  <th>Df Residuals:</th>          <td> 31778</td>      <th>  BIC:               </th> <td>5.725e+04</td>\n",
       "</tr>\n",
       "<tr>\n",
       "  <th>Df Model:</th>              <td>     2</td>      <th>                     </th>     <td> </td>    \n",
       "</tr>\n",
       "<tr>\n",
       "  <th>Covariance Type:</th>      <td>nonrobust</td>    <th>                     </th>     <td> </td>    \n",
       "</tr>\n",
       "</table>\n",
       "<table class=\"simpletable\">\n",
       "<tr>\n",
       "          <td></td>             <th>coef</th>     <th>std err</th>      <th>t</th>      <th>P>|t|</th>  <th>[0.025</th>    <th>0.975]</th>  \n",
       "</tr>\n",
       "<tr>\n",
       "  <th>Intercept</th>         <td>   -0.0006</td> <td>  8.4e-05</td> <td>   -7.264</td> <td> 0.000</td> <td>   -0.001</td> <td>   -0.000</td>\n",
       "</tr>\n",
       "<tr>\n",
       "  <th>year</th>              <td>   -0.4049</td> <td>    0.056</td> <td>   -7.264</td> <td> 0.000</td> <td>   -0.514</td> <td>   -0.296</td>\n",
       "</tr>\n",
       "<tr>\n",
       "  <th>np.square(year)</th>   <td>    0.0004</td> <td>  5.6e-05</td> <td>    7.329</td> <td> 0.000</td> <td>    0.000</td> <td>    0.001</td>\n",
       "</tr>\n",
       "<tr>\n",
       "  <th>np.power(year, 3)</th> <td>-1.036e-07</td> <td> 1.41e-08</td> <td>   -7.370</td> <td> 0.000</td> <td>-1.31e-07</td> <td> -7.6e-08</td>\n",
       "</tr>\n",
       "</table>\n",
       "<table class=\"simpletable\">\n",
       "<tr>\n",
       "  <th>Omnibus:</th>       <td>5837.580</td> <th>  Durbin-Watson:     </th> <td>   1.954</td>\n",
       "</tr>\n",
       "<tr>\n",
       "  <th>Prob(Omnibus):</th>  <td> 0.000</td>  <th>  Jarque-Bera (JB):  </th> <td>9591.990</td>\n",
       "</tr>\n",
       "<tr>\n",
       "  <th>Skew:</th>           <td>-1.302</td>  <th>  Prob(JB):          </th> <td>    0.00</td>\n",
       "</tr>\n",
       "<tr>\n",
       "  <th>Kurtosis:</th>       <td> 3.680</td>  <th>  Cond. No.          </th> <td>5.03e+16</td>\n",
       "</tr>\n",
       "</table><br/><br/>Warnings:<br/>[1] Standard Errors assume that the covariance matrix of the errors is correctly specified.<br/>[2] The condition number is large, 5.03e+16. This might indicate that there are<br/>strong multicollinearity or other numerical problems."
      ],
      "text/plain": [
       "<class 'statsmodels.iolib.summary.Summary'>\n",
       "\"\"\"\n",
       "                            OLS Regression Results                            \n",
       "==============================================================================\n",
       "Dep. Variable:               natcrime   R-squared:                       0.006\n",
       "Model:                            OLS   Adj. R-squared:                  0.006\n",
       "Method:                 Least Squares   F-statistic:                     94.93\n",
       "Date:                Sun, 17 Jun 2018   Prob (F-statistic):           7.86e-42\n",
       "Time:                        10:56:56   Log-Likelihood:                -28608.\n",
       "No. Observations:               31781   AIC:                         5.722e+04\n",
       "Df Residuals:                   31778   BIC:                         5.725e+04\n",
       "Df Model:                           2                                         \n",
       "Covariance Type:            nonrobust                                         \n",
       "=====================================================================================\n",
       "                        coef    std err          t      P>|t|      [0.025      0.975]\n",
       "-------------------------------------------------------------------------------------\n",
       "Intercept            -0.0006    8.4e-05     -7.264      0.000      -0.001      -0.000\n",
       "year                 -0.4049      0.056     -7.264      0.000      -0.514      -0.296\n",
       "np.square(year)       0.0004    5.6e-05      7.329      0.000       0.000       0.001\n",
       "np.power(year, 3) -1.036e-07   1.41e-08     -7.370      0.000   -1.31e-07    -7.6e-08\n",
       "==============================================================================\n",
       "Omnibus:                     5837.580   Durbin-Watson:                   1.954\n",
       "Prob(Omnibus):                  0.000   Jarque-Bera (JB):             9591.990\n",
       "Skew:                          -1.302   Prob(JB):                         0.00\n",
       "Kurtosis:                       3.680   Cond. No.                     5.03e+16\n",
       "==============================================================================\n",
       "\n",
       "Warnings:\n",
       "[1] Standard Errors assume that the covariance matrix of the errors is correctly specified.\n",
       "[2] The condition number is large, 5.03e+16. This might indicate that there are\n",
       "strong multicollinearity or other numerical problems.\n",
       "\"\"\""
      ]
     },
     "execution_count": 21,
     "metadata": {},
     "output_type": "execute_result"
    }
   ],
   "source": [
    "lm_natcrimecu = smf.ols('natcrime ~ year + np.square(year) + np.power(year, 3)', data = sub2).fit()\n",
    "lm_natcrimecu.summary()"
   ]
  },
  {
   "cell_type": "markdown",
   "metadata": {},
   "source": [
    "## Trend with interactions \n",
    "\n",
    "(slides 58 - 62)"
   ]
  },
  {
   "cell_type": "code",
   "execution_count": 22,
   "metadata": {},
   "outputs": [],
   "source": [
    "# map the indicators variables for sex to 'Male' and 'Female'\n",
    "sub2['sex'].replace({1: 'Male', 2: 'Female'}, inplace = True)"
   ]
  },
  {
   "cell_type": "code",
   "execution_count": 54,
   "metadata": {},
   "outputs": [
    {
     "data": {
      "text/html": [
       "<div>\n",
       "<style scoped>\n",
       "    .dataframe tbody tr th:only-of-type {\n",
       "        vertical-align: middle;\n",
       "    }\n",
       "\n",
       "    .dataframe tbody tr th {\n",
       "        vertical-align: top;\n",
       "    }\n",
       "\n",
       "    .dataframe thead th {\n",
       "        text-align: right;\n",
       "    }\n",
       "</style>\n",
       "<table border=\"1\" class=\"dataframe\">\n",
       "  <thead>\n",
       "    <tr style=\"text-align: right;\">\n",
       "      <th>sex</th>\n",
       "      <th>Female</th>\n",
       "      <th>Male</th>\n",
       "    </tr>\n",
       "    <tr>\n",
       "      <th>year</th>\n",
       "      <th></th>\n",
       "      <th></th>\n",
       "    </tr>\n",
       "  </thead>\n",
       "  <tbody>\n",
       "    <tr>\n",
       "      <th>1973</th>\n",
       "      <td>2.669399</td>\n",
       "      <td>2.604755</td>\n",
       "    </tr>\n",
       "    <tr>\n",
       "      <th>1974</th>\n",
       "      <td>2.661269</td>\n",
       "      <td>2.640060</td>\n",
       "    </tr>\n",
       "    <tr>\n",
       "      <th>1975</th>\n",
       "      <td>2.662730</td>\n",
       "      <td>2.608150</td>\n",
       "    </tr>\n",
       "    <tr>\n",
       "      <th>1976</th>\n",
       "      <td>2.635659</td>\n",
       "      <td>2.577465</td>\n",
       "    </tr>\n",
       "    <tr>\n",
       "      <th>1977</th>\n",
       "      <td>2.680879</td>\n",
       "      <td>2.585997</td>\n",
       "    </tr>\n",
       "  </tbody>\n",
       "</table>\n",
       "</div>"
      ],
      "text/plain": [
       "sex     Female      Male\n",
       "year                    \n",
       "1973  2.669399  2.604755\n",
       "1974  2.661269  2.640060\n",
       "1975  2.662730  2.608150\n",
       "1976  2.635659  2.577465\n",
       "1977  2.680879  2.585997"
      ]
     },
     "execution_count": 54,
     "metadata": {},
     "output_type": "execute_result"
    }
   ],
   "source": [
    "# get mean of 'natcrime' by year and sex, present it in the form of a pivot table for easier plotting\n",
    "by_year_sex = sub2.groupby(['year', 'sex']).mean()['natcrime'].unstack()\n",
    "\n",
    "# see how the new data frame looks like\n",
    "by_year_sex.head()"
   ]
  },
  {
   "cell_type": "code",
   "execution_count": 55,
   "metadata": {},
   "outputs": [
    {
     "data": {
      "text/plain": [
       "Text(0,0.5,'mean')"
      ]
     },
     "execution_count": 55,
     "metadata": {},
     "output_type": "execute_result"
    },
    {
     "data": {
      "image/png": "[encoded data removed]",
      "text/plain": [
       "<Figure size 432x288 with 1 Axes>"
      ]
     },
     "metadata": {},
     "output_type": "display_data"
    }
   ],
   "source": [
    "# plot the two trend lines, specifying the colors\n",
    "ax = by_year_sex.plot(color = ['maroon', 'navy'], grid = True)\n",
    "\n",
    "# plot the two regression lines\n",
    "sns.regplot(x = by_year_sex.index, y = 'Female', data = by_year_sex,\n",
    "            scatter = False, ci = None, fit_reg = True, color = 'maroon')\n",
    "sns.regplot(x = by_year_sex.index, y = 'Male', data = by_year_sex,\n",
    "            scatter = False, ci = None, fit_reg = True, color = 'navy')\n",
    "\n",
    "# rename y-label\n",
    "ax.set_ylabel('mean')"
   ]
  },
  {
   "cell_type": "markdown",
   "metadata": {},
   "source": [
    "## Quadratic fit for crime rate by gender\n",
    "\n",
    "(slides 64-65)"
   ]
  },
  {
   "cell_type": "code",
   "execution_count": 56,
   "metadata": {},
   "outputs": [
    {
     "data": {
      "text/plain": [
       "Text(0,0.5,'mean')"
      ]
     },
     "execution_count": 56,
     "metadata": {},
     "output_type": "execute_result"
    },
    {
     "data": {
      "image/png": "[encoded data removed]",
      "text/plain": [
       "<Figure size 432x288 with 1 Axes>"
      ]
     },
     "metadata": {},
     "output_type": "display_data"
    }
   ],
   "source": [
    "ax = by_year_sex.plot(color = ['maroon', 'navy'], grid = True)\n",
    "\n",
    "# specify \"order = 2\" for quadratic fit\n",
    "sns.regplot(x = by_year_sex.index, y = 'Male', data = by_year_sex, order = 2, \n",
    "            scatter = False, ci = None, fit_reg = True, color = 'navy')\n",
    "sns.regplot(x = by_year_sex.index, y = 'Female', data = by_year_sex, order = 2, \n",
    "            scatter = False, ci = None, fit_reg = True, color = 'maroon')\n",
    "\n",
    "# rename y-label\n",
    "ax.set_ylabel('mean')"
   ]
  },
  {
   "cell_type": "markdown",
   "metadata": {},
   "source": [
    "## Cubic fit for crime rate by gender\n",
    "\n",
    "(slides 67-68)"
   ]
  },
  {
   "cell_type": "code",
   "execution_count": 57,
   "metadata": {},
   "outputs": [
    {
     "data": {
      "text/plain": [
       "Text(0,0.5,'mean')"
      ]
     },
     "execution_count": 57,
     "metadata": {},
     "output_type": "execute_result"
    },
    {
     "data": {
      "image/png": "[encoded data removed]",
      "text/plain": [
       "<Figure size 432x288 with 1 Axes>"
      ]
     },
     "metadata": {},
     "output_type": "display_data"
    }
   ],
   "source": [
    "ax = by_year_sex.plot(color = ['maroon', 'navy'], grid = True)\n",
    "\n",
    "# specify \"order = 3\" for cubic fit\n",
    "sns.regplot(x = by_year_sex.index, y = 'Female', data = by_year_sex, order = 3, \n",
    "            scatter = False, ci = None, fit_reg = True, color = 'maroon')\n",
    "sns.regplot(x = by_year_sex.index, y = 'Male', data = by_year_sex, order = 3, \n",
    "            scatter = False, ci = None, fit_reg = True, color = 'navy')\n",
    "\n",
    "ax.set_ylabel('mean')"
   ]
  },
  {
   "cell_type": "markdown",
   "metadata": {},
   "source": [
    "## Concerns for crime \n",
    "\n",
    "(slide 70-76)\n",
    "\n",
    "First, let's look at those who have a lot of concerns about crime. Note that `np.where()` in Python is functionally equivalent to `ifelse()` in R"
   ]
  },
  {
   "cell_type": "code",
   "execution_count": 132,
   "metadata": {},
   "outputs": [
    {
     "data": {
      "text/plain": [
       "Text(0,0.5,'mean')"
      ]
     },
     "execution_count": 132,
     "metadata": {},
     "output_type": "execute_result"
    },
    {
     "data": {
      "image/png": "[encoded data removed]",
      "text/plain": [
       "<Figure size 432x288 with 1 Axes>"
      ]
     },
     "metadata": {},
     "output_type": "display_data"
    }
   ],
   "source": [
    "# create new variable 'muchconcern' as an indicator variable for when natcrime == 3. np.where()\n",
    "sub2['muchconcern'] = np.where((sub2.natcrime == 3), 1, 0)\n",
    "\n",
    "# calculate mean natcrime for muchconcern\n",
    "by_year_sex = sub2.groupby(['year', 'sex']).mean()['muchconcern'].unstack()\n",
    "\n",
    "by_year_sex.plot(color = ['maroon', 'navy'], grid = True).set_ylabel('mean')"
   ]
  },
  {
   "cell_type": "markdown",
   "metadata": {},
   "source": [
    "Next, look at those who have some concerns about crime:"
   ]
  },
  {
   "cell_type": "code",
   "execution_count": 134,
   "metadata": {},
   "outputs": [
    {
     "data": {
      "text/plain": [
       "Text(0,0.5,'mean')"
      ]
     },
     "execution_count": 134,
     "metadata": {},
     "output_type": "execute_result"
    },
    {
     "data": {
      "image/png": "[encoded data removed]",
      "text/plain": [
       "<Figure size 432x288 with 1 Axes>"
      ]
     },
     "metadata": {},
     "output_type": "display_data"
    }
   ],
   "source": [
    "sub2['someconcern'] = np.where((sub2.natcrime == 2), 1, 0)\n",
    "\n",
    "by_year_sex = sub2.groupby(['year', 'sex']).mean()['someconcern'].unstack()\n",
    "\n",
    "by_year_sex.plot(color = ['maroon', 'navy'], grid = True).set_ylabel('mean')"
   ]
  },
  {
   "cell_type": "markdown",
   "metadata": {},
   "source": [
    "Finally, those who have little concern about crime:"
   ]
  },
  {
   "cell_type": "code",
   "execution_count": 135,
   "metadata": {},
   "outputs": [
    {
     "data": {
      "text/plain": [
       "Text(0,0.5,'mean')"
      ]
     },
     "execution_count": 135,
     "metadata": {},
     "output_type": "execute_result"
    },
    {
     "data": {
      "image/png": "[encoded data removed]",
      "text/plain": [
       "<Figure size 432x288 with 1 Axes>"
      ]
     },
     "metadata": {},
     "output_type": "display_data"
    }
   ],
   "source": [
    "sub2['littleconcern'] = np.where((sub2.natcrime == 1), 1, 0)\n",
    "\n",
    "by_year_sex = sub2.groupby(['year', 'sex']).mean()['littleconcern'].unstack()\n",
    "\n",
    "by_year_sex.plot(color = ['maroon', 'navy'], grid = True).set_ylabel('mean')"
   ]
  },
  {
   "cell_type": "markdown",
   "metadata": {},
   "source": [
    "## The male OLS regression (SE AND SOME OTHER RESULTS ARE DIFFERENT FROM GREG'S. DF SHOULD NOT BE THE TOTAL OBS THOUGH?)\n",
    "\n",
    "(slide 78)"
   ]
  },
  {
   "cell_type": "code",
   "execution_count": 85,
   "metadata": {},
   "outputs": [
    {
     "data": {
      "text/html": [
       "<table class=\"simpletable\">\n",
       "<caption>OLS Regression Results</caption>\n",
       "<tr>\n",
       "  <th>Dep. Variable:</th>        <td>natcrime</td>     <th>  R-squared:         </th> <td>   0.007</td> \n",
       "</tr>\n",
       "<tr>\n",
       "  <th>Model:</th>                   <td>OLS</td>       <th>  Adj. R-squared:    </th> <td>   0.007</td> \n",
       "</tr>\n",
       "<tr>\n",
       "  <th>Method:</th>             <td>Least Squares</td>  <th>  F-statistic:       </th> <td>   106.3</td> \n",
       "</tr>\n",
       "<tr>\n",
       "  <th>Date:</th>             <td>Sun, 17 Jun 2018</td> <th>  Prob (F-statistic):</th> <td>7.79e-25</td> \n",
       "</tr>\n",
       "<tr>\n",
       "  <th>Time:</th>                 <td>11:26:24</td>     <th>  Log-Likelihood:    </th> <td> -13594.</td> \n",
       "</tr>\n",
       "<tr>\n",
       "  <th>No. Observations:</th>      <td> 14286</td>      <th>  AIC:               </th> <td>2.719e+04</td>\n",
       "</tr>\n",
       "<tr>\n",
       "  <th>Df Residuals:</th>          <td> 14284</td>      <th>  BIC:               </th> <td>2.721e+04</td>\n",
       "</tr>\n",
       "<tr>\n",
       "  <th>Df Model:</th>              <td>     1</td>      <th>                     </th>     <td> </td>    \n",
       "</tr>\n",
       "<tr>\n",
       "  <th>Covariance Type:</th>      <td>nonrobust</td>    <th>                     </th>     <td> </td>    \n",
       "</tr>\n",
       "</table>\n",
       "<table class=\"simpletable\">\n",
       "<tr>\n",
       "      <td></td>         <th>coef</th>     <th>std err</th>      <th>t</th>      <th>P>|t|</th>  <th>[0.025</th>    <th>0.975]</th>  \n",
       "</tr>\n",
       "<tr>\n",
       "  <th>Intercept</th> <td>   11.5825</td> <td>    0.875</td> <td>   13.240</td> <td> 0.000</td> <td>    9.868</td> <td>   13.297</td>\n",
       "</tr>\n",
       "<tr>\n",
       "  <th>year</th>      <td>   -0.0045</td> <td>    0.000</td> <td>  -10.310</td> <td> 0.000</td> <td>   -0.005</td> <td>   -0.004</td>\n",
       "</tr>\n",
       "</table>\n",
       "<table class=\"simpletable\">\n",
       "<tr>\n",
       "  <th>Omnibus:</th>       <td>2088.880</td> <th>  Durbin-Watson:     </th> <td>   1.949</td>\n",
       "</tr>\n",
       "<tr>\n",
       "  <th>Prob(Omnibus):</th>  <td> 0.000</td>  <th>  Jarque-Bera (JB):  </th> <td>3151.011</td>\n",
       "</tr>\n",
       "<tr>\n",
       "  <th>Skew:</th>           <td>-1.144</td>  <th>  Prob(JB):          </th> <td>    0.00</td>\n",
       "</tr>\n",
       "<tr>\n",
       "  <th>Kurtosis:</th>       <td> 3.237</td>  <th>  Cond. No.          </th> <td>3.32e+05</td>\n",
       "</tr>\n",
       "</table><br/><br/>Warnings:<br/>[1] Standard Errors assume that the covariance matrix of the errors is correctly specified.<br/>[2] The condition number is large, 3.32e+05. This might indicate that there are<br/>strong multicollinearity or other numerical problems."
      ],
      "text/plain": [
       "<class 'statsmodels.iolib.summary.Summary'>\n",
       "\"\"\"\n",
       "                            OLS Regression Results                            \n",
       "==============================================================================\n",
       "Dep. Variable:               natcrime   R-squared:                       0.007\n",
       "Model:                            OLS   Adj. R-squared:                  0.007\n",
       "Method:                 Least Squares   F-statistic:                     106.3\n",
       "Date:                Sun, 17 Jun 2018   Prob (F-statistic):           7.79e-25\n",
       "Time:                        11:26:24   Log-Likelihood:                -13594.\n",
       "No. Observations:               14286   AIC:                         2.719e+04\n",
       "Df Residuals:                   14284   BIC:                         2.721e+04\n",
       "Df Model:                           1                                         \n",
       "Covariance Type:            nonrobust                                         \n",
       "==============================================================================\n",
       "                 coef    std err          t      P>|t|      [0.025      0.975]\n",
       "------------------------------------------------------------------------------\n",
       "Intercept     11.5825      0.875     13.240      0.000       9.868      13.297\n",
       "year          -0.0045      0.000    -10.310      0.000      -0.005      -0.004\n",
       "==============================================================================\n",
       "Omnibus:                     2088.880   Durbin-Watson:                   1.949\n",
       "Prob(Omnibus):                  0.000   Jarque-Bera (JB):             3151.011\n",
       "Skew:                          -1.144   Prob(JB):                         0.00\n",
       "Kurtosis:                       3.237   Cond. No.                     3.32e+05\n",
       "==============================================================================\n",
       "\n",
       "Warnings:\n",
       "[1] Standard Errors assume that the covariance matrix of the errors is correctly specified.\n",
       "[2] The condition number is large, 3.32e+05. This might indicate that there are\n",
       "strong multicollinearity or other numerical problems.\n",
       "\"\"\""
      ]
     },
     "execution_count": 85,
     "metadata": {},
     "output_type": "execute_result"
    }
   ],
   "source": [
    "# calculate ols results for males, applying robust standard errors\n",
    "ols_natcrimeM = smf.ols('natcrime ~ year', data = sub2[sub2.sex == 'Male']).fit()\n",
    "\n",
    "ols_natcrimeM.summary()\n",
    "#ols_natcrimeM.get_robustcov_results(ols_natcrimeM)"
   ]
  },
  {
   "cell_type": "markdown",
   "metadata": {},
   "source": [
    "## The female OLS regression\n",
    "\n",
    "(slide 79)"
   ]
  },
  {
   "cell_type": "code",
   "execution_count": 94,
   "metadata": {},
   "outputs": [
    {
     "data": {
      "text/html": [
       "<table class=\"simpletable\">\n",
       "<caption>OLS Regression Results</caption>\n",
       "<tr>\n",
       "  <th>Dep. Variable:</th>        <td>natcrime</td>     <th>  R-squared:         </th> <td>   0.002</td> \n",
       "</tr>\n",
       "<tr>\n",
       "  <th>Model:</th>                   <td>OLS</td>       <th>  Adj. R-squared:    </th> <td>   0.002</td> \n",
       "</tr>\n",
       "<tr>\n",
       "  <th>Method:</th>             <td>Least Squares</td>  <th>  F-statistic:       </th> <td>   36.98</td> \n",
       "</tr>\n",
       "<tr>\n",
       "  <th>Date:</th>             <td>Sun, 17 Jun 2018</td> <th>  Prob (F-statistic):</th> <td>1.22e-09</td> \n",
       "</tr>\n",
       "<tr>\n",
       "  <th>Time:</th>                 <td>11:52:47</td>     <th>  Log-Likelihood:    </th> <td> -14847.</td> \n",
       "</tr>\n",
       "<tr>\n",
       "  <th>No. Observations:</th>      <td> 17495</td>      <th>  AIC:               </th> <td>2.970e+04</td>\n",
       "</tr>\n",
       "<tr>\n",
       "  <th>Df Residuals:</th>          <td> 17493</td>      <th>  BIC:               </th> <td>2.971e+04</td>\n",
       "</tr>\n",
       "<tr>\n",
       "  <th>Df Model:</th>              <td>     1</td>      <th>                     </th>     <td> </td>    \n",
       "</tr>\n",
       "<tr>\n",
       "  <th>Covariance Type:</th>         <td>HC1</td>       <th>                     </th>     <td> </td>    \n",
       "</tr>\n",
       "</table>\n",
       "<table class=\"simpletable\">\n",
       "<tr>\n",
       "      <td></td>         <th>coef</th>     <th>std err</th>      <th>z</th>      <th>P>|z|</th>  <th>[0.025</th>    <th>0.975]</th>  \n",
       "</tr>\n",
       "<tr>\n",
       "  <th>Intercept</th> <td>    7.1193</td> <td>    0.733</td> <td>    9.709</td> <td> 0.000</td> <td>    5.682</td> <td>    8.557</td>\n",
       "</tr>\n",
       "<tr>\n",
       "  <th>year</th>      <td>   -0.0022</td> <td>    0.000</td> <td>   -6.081</td> <td> 0.000</td> <td>   -0.003</td> <td>   -0.002</td>\n",
       "</tr>\n",
       "</table>\n",
       "<table class=\"simpletable\">\n",
       "<tr>\n",
       "  <th>Omnibus:</th>       <td>3854.337</td> <th>  Durbin-Watson:     </th> <td>   1.953</td>\n",
       "</tr>\n",
       "<tr>\n",
       "  <th>Prob(Omnibus):</th>  <td> 0.000</td>  <th>  Jarque-Bera (JB):  </th> <td>6959.348</td>\n",
       "</tr>\n",
       "<tr>\n",
       "  <th>Skew:</th>           <td>-1.442</td>  <th>  Prob(JB):          </th> <td>    0.00</td>\n",
       "</tr>\n",
       "<tr>\n",
       "  <th>Kurtosis:</th>       <td> 4.108</td>  <th>  Cond. No.          </th> <td>3.35e+05</td>\n",
       "</tr>\n",
       "</table><br/><br/>Warnings:<br/>[1] Standard Errors are heteroscedasticity robust (HC1)<br/>[2] The condition number is large, 3.35e+05. This might indicate that there are<br/>strong multicollinearity or other numerical problems."
      ],
      "text/plain": [
       "<class 'statsmodels.iolib.summary.Summary'>\n",
       "\"\"\"\n",
       "                            OLS Regression Results                            \n",
       "==============================================================================\n",
       "Dep. Variable:               natcrime   R-squared:                       0.002\n",
       "Model:                            OLS   Adj. R-squared:                  0.002\n",
       "Method:                 Least Squares   F-statistic:                     36.98\n",
       "Date:                Sun, 17 Jun 2018   Prob (F-statistic):           1.22e-09\n",
       "Time:                        11:52:47   Log-Likelihood:                -14847.\n",
       "No. Observations:               17495   AIC:                         2.970e+04\n",
       "Df Residuals:                   17493   BIC:                         2.971e+04\n",
       "Df Model:                           1                                         \n",
       "Covariance Type:                  HC1                                         \n",
       "==============================================================================\n",
       "                 coef    std err          z      P>|z|      [0.025      0.975]\n",
       "------------------------------------------------------------------------------\n",
       "Intercept      7.1193      0.733      9.709      0.000       5.682       8.557\n",
       "year          -0.0022      0.000     -6.081      0.000      -0.003      -0.002\n",
       "==============================================================================\n",
       "Omnibus:                     3854.337   Durbin-Watson:                   1.953\n",
       "Prob(Omnibus):                  0.000   Jarque-Bera (JB):             6959.348\n",
       "Skew:                          -1.442   Prob(JB):                         0.00\n",
       "Kurtosis:                       4.108   Cond. No.                     3.35e+05\n",
       "==============================================================================\n",
       "\n",
       "Warnings:\n",
       "[1] Standard Errors are heteroscedasticity robust (HC1)\n",
       "[2] The condition number is large, 3.35e+05. This might indicate that there are\n",
       "strong multicollinearity or other numerical problems.\n",
       "\"\"\""
      ]
     },
     "execution_count": 94,
     "metadata": {},
     "output_type": "execute_result"
    }
   ],
   "source": [
    "# calculate ols results for females, applying robust standard errors\n",
    "ols_natcrimeF = smf.ols('natcrime ~ year', data = sub2[sub2.sex == 'Female']).fit(cov_type = 'HC1')\n",
    "ols_natcrimeF.summary()"
   ]
  },
  {
   "cell_type": "markdown",
   "metadata": {},
   "source": [
    "## The Z test (NEED TO LOOK MORE INTO THIS)\n",
    "\n",
    "(slide 82)"
   ]
  },
  {
   "cell_type": "code",
   "execution_count": 124,
   "metadata": {},
   "outputs": [],
   "source": [
    "import scipy.stats as stats\n",
    "\n",
    "# Get coefficient and standard error for the 'year' variable for the Male and Female models\n",
    "natcrimeMb = ols_natcrimeM.params['year']\n",
    "natcrimeMse = ols_natcrimeM.bse['year']\n",
    "\n",
    "natcrimeFb = ols_natcrimeF.params['year']\n",
    "natcrimeFse = ols_natcrimeF.bse['year']\n",
    "\n",
    "# applying the Z formula\n",
    "b1minusb2 = natcrimeMb - natcrimeFb\n",
    "denom = np.sqrt(np.square(natcrimeMse)+np.square(natcrimeFse))\n",
    "Z = b1minusb2/denom\n",
    "pvalue = 1 - stats.norm.cdf(abs(Z))"
   ]
  },
  {
   "cell_type": "code",
   "execution_count": 125,
   "metadata": {},
   "outputs": [
    {
     "data": {
      "text/plain": [
       "3.245756462477711e-05"
      ]
     },
     "execution_count": 125,
     "metadata": {},
     "output_type": "execute_result"
    }
   ],
   "source": [
    "pvalue"
   ]
  },
  {
   "cell_type": "markdown",
   "metadata": {},
   "source": [
    "## The interacted OLS regression \n",
    "\n",
    "(slide 84)"
   ]
  },
  {
   "cell_type": "code",
   "execution_count": 129,
   "metadata": {},
   "outputs": [
    {
     "data": {
      "text/html": [
       "<table class=\"simpletable\">\n",
       "<caption>OLS Regression Results</caption>\n",
       "<tr>\n",
       "  <th>Dep. Variable:</th>        <td>natcrime</td>     <th>  R-squared:         </th> <td>   0.011</td> \n",
       "</tr>\n",
       "<tr>\n",
       "  <th>Model:</th>                   <td>OLS</td>       <th>  Adj. R-squared:    </th> <td>   0.011</td> \n",
       "</tr>\n",
       "<tr>\n",
       "  <th>Method:</th>             <td>Least Squares</td>  <th>  F-statistic:       </th> <td>   111.6</td> \n",
       "</tr>\n",
       "<tr>\n",
       "  <th>Date:</th>             <td>Sun, 17 Jun 2018</td> <th>  Prob (F-statistic):</th> <td>6.97e-72</td> \n",
       "</tr>\n",
       "<tr>\n",
       "  <th>Time:</th>                 <td>14:12:47</td>     <th>  Log-Likelihood:    </th> <td> -28524.</td> \n",
       "</tr>\n",
       "<tr>\n",
       "  <th>No. Observations:</th>      <td> 31781</td>      <th>  AIC:               </th> <td>5.706e+04</td>\n",
       "</tr>\n",
       "<tr>\n",
       "  <th>Df Residuals:</th>          <td> 31777</td>      <th>  BIC:               </th> <td>5.709e+04</td>\n",
       "</tr>\n",
       "<tr>\n",
       "  <th>Df Model:</th>              <td>     3</td>      <th>                     </th>     <td> </td>    \n",
       "</tr>\n",
       "<tr>\n",
       "  <th>Covariance Type:</th>         <td>HC1</td>       <th>                     </th>     <td> </td>    \n",
       "</tr>\n",
       "</table>\n",
       "<table class=\"simpletable\">\n",
       "<tr>\n",
       "          <td></td>             <th>coef</th>     <th>std err</th>      <th>z</th>      <th>P>|z|</th>  <th>[0.025</th>    <th>0.975]</th>  \n",
       "</tr>\n",
       "<tr>\n",
       "  <th>Intercept</th>         <td>    7.1193</td> <td>    0.733</td> <td>    9.709</td> <td> 0.000</td> <td>    5.682</td> <td>    8.557</td>\n",
       "</tr>\n",
       "<tr>\n",
       "  <th>male[T.True]</th>      <td>    4.4632</td> <td>    1.152</td> <td>    3.876</td> <td> 0.000</td> <td>    2.206</td> <td>    6.720</td>\n",
       "</tr>\n",
       "<tr>\n",
       "  <th>year</th>              <td>   -0.0022</td> <td>    0.000</td> <td>   -6.081</td> <td> 0.000</td> <td>   -0.003</td> <td>   -0.002</td>\n",
       "</tr>\n",
       "<tr>\n",
       "  <th>year:male[T.True]</th> <td>   -0.0023</td> <td>    0.001</td> <td>   -3.959</td> <td> 0.000</td> <td>   -0.003</td> <td>   -0.001</td>\n",
       "</tr>\n",
       "</table>\n",
       "<table class=\"simpletable\">\n",
       "<tr>\n",
       "  <th>Omnibus:</th>       <td>5759.834</td> <th>  Durbin-Watson:     </th> <td>   1.952</td>\n",
       "</tr>\n",
       "<tr>\n",
       "  <th>Prob(Omnibus):</th>  <td> 0.000</td>  <th>  Jarque-Bera (JB):  </th> <td>9407.121</td>\n",
       "</tr>\n",
       "<tr>\n",
       "  <th>Skew:</th>           <td>-1.290</td>  <th>  Prob(JB):          </th> <td>    0.00</td>\n",
       "</tr>\n",
       "<tr>\n",
       "  <th>Kurtosis:</th>       <td> 3.665</td>  <th>  Cond. No.          </th> <td>8.40e+05</td>\n",
       "</tr>\n",
       "</table><br/><br/>Warnings:<br/>[1] Standard Errors are heteroscedasticity robust (HC1)<br/>[2] The condition number is large, 8.4e+05. This might indicate that there are<br/>strong multicollinearity or other numerical problems."
      ],
      "text/plain": [
       "<class 'statsmodels.iolib.summary.Summary'>\n",
       "\"\"\"\n",
       "                            OLS Regression Results                            \n",
       "==============================================================================\n",
       "Dep. Variable:               natcrime   R-squared:                       0.011\n",
       "Model:                            OLS   Adj. R-squared:                  0.011\n",
       "Method:                 Least Squares   F-statistic:                     111.6\n",
       "Date:                Sun, 17 Jun 2018   Prob (F-statistic):           6.97e-72\n",
       "Time:                        14:12:47   Log-Likelihood:                -28524.\n",
       "No. Observations:               31781   AIC:                         5.706e+04\n",
       "Df Residuals:                   31777   BIC:                         5.709e+04\n",
       "Df Model:                           3                                         \n",
       "Covariance Type:                  HC1                                         \n",
       "=====================================================================================\n",
       "                        coef    std err          z      P>|z|      [0.025      0.975]\n",
       "-------------------------------------------------------------------------------------\n",
       "Intercept             7.1193      0.733      9.709      0.000       5.682       8.557\n",
       "male[T.True]          4.4632      1.152      3.876      0.000       2.206       6.720\n",
       "year                 -0.0022      0.000     -6.081      0.000      -0.003      -0.002\n",
       "year:male[T.True]    -0.0023      0.001     -3.959      0.000      -0.003      -0.001\n",
       "==============================================================================\n",
       "Omnibus:                     5759.834   Durbin-Watson:                   1.952\n",
       "Prob(Omnibus):                  0.000   Jarque-Bera (JB):             9407.121\n",
       "Skew:                          -1.290   Prob(JB):                         0.00\n",
       "Kurtosis:                       3.665   Cond. No.                     8.40e+05\n",
       "==============================================================================\n",
       "\n",
       "Warnings:\n",
       "[1] Standard Errors are heteroscedasticity robust (HC1)\n",
       "[2] The condition number is large, 8.4e+05. This might indicate that there are\n",
       "strong multicollinearity or other numerical problems.\n",
       "\"\"\""
      ]
     },
     "execution_count": 129,
     "metadata": {},
     "output_type": "execute_result"
    }
   ],
   "source": [
    "# create indicator variable 'male'\n",
    "sub2['male'] = sub2['sex'] == 'Male'\n",
    "\n",
    "# obtain results for interacted ols regression, appylying robust standard errors\n",
    "ols_natcrime4 = smf.ols('natcrime ~ year*male', data = sub2).fit(cov_type = 'HC1')\n",
    "ols_natcrime4.summary()"
   ]
  },
  {
   "cell_type": "code",
   "execution_count": 130,
   "metadata": {},
   "outputs": [
    {
     "data": {
      "text/plain": [
       "Text(0,0.5,'mean')"
      ]
     },
     "execution_count": 130,
     "metadata": {},
     "output_type": "execute_result"
    },
    {
     "data": {
      "image/png": "[encoded data removed]",
      "text/plain": [
       "<Figure size 432x288 with 1 Axes>"
      ]
     },
     "metadata": {},
     "output_type": "display_data"
    }
   ],
   "source": [
    "by_year_sex = sub2.groupby(['year', 'sex']).mean()['natcrime'].unstack()\n",
    "\n",
    "ax = by_year_sex.plot(color = ['maroon', 'navy'], grid = True)\n",
    "\n",
    "sns.regplot(x = by_year_sex.index, y = 'Male', data = by_year_sex,\n",
    "            scatter = False, ci = None, fit_reg = True, color = 'navy')\n",
    "sns.regplot(x = by_year_sex.index, y = 'Female', data = by_year_sex,\n",
    "            scatter = False, ci = None, fit_reg = True, color = 'maroon')\n",
    "\n",
    "ax.set_ylabel('mean')"
   ]
  },
  {
   "cell_type": "markdown",
   "metadata": {},
   "source": [
    "## Prediction\n",
    "\n",
    "(slides 86-87)"
   ]
  },
  {
   "cell_type": "markdown",
   "metadata": {},
   "source": [
    "First we need to create a new dataframe of values to be predicted on using the model we fitted. This contains a column for year and a boolean column for male. Per the `pandas` documentation, we can define a `expand_grid` function similar to the `expand.grid()` function in R:"
   ]
  },
  {
   "cell_type": "code",
   "execution_count": 36,
   "metadata": {},
   "outputs": [],
   "source": [
    "import itertools \n",
    "\n",
    "def expand_grid(data_dict):\n",
    "    rows = itertools.product(*data_dict.values())\n",
    "    return pd.DataFrame.from_records(rows, columns = data_dict.keys())"
   ]
  },
  {
   "cell_type": "code",
   "execution_count": 37,
   "metadata": {},
   "outputs": [],
   "source": [
    "pred_dat = expand_grid(\n",
    "            {'year': sub2.year.unique(), \n",
    "             'male': [True, False]})"
   ]
  },
  {
   "cell_type": "markdown",
   "metadata": {},
   "source": [
    "Make predictions on the `pred_dat` dataframe"
   ]
  },
  {
   "cell_type": "code",
   "execution_count": 38,
   "metadata": {},
   "outputs": [],
   "source": [
    "pred_dat['predicted value'] = ols_natcrime4.predict(pred_dat)"
   ]
  },
  {
   "cell_type": "markdown",
   "metadata": {},
   "source": [
    "To plot year vs. predicted values based on a third column `male`, we can first `pivot` the data, then use `pandas.dataframe.plot` on the pivoted dataframe."
   ]
  },
  {
   "cell_type": "code",
   "execution_count": 65,
   "metadata": {},
   "outputs": [
    {
     "data": {
      "text/plain": [
       "Text(0,0.5,'predicted value')"
      ]
     },
     "execution_count": 65,
     "metadata": {},
     "output_type": "execute_result"
    },
    {
     "data": {
      "image/png": "[encoded data removed]",
      "text/plain": [
       "<Figure size 432x288 with 1 Axes>"
      ]
     },
     "metadata": {},
     "output_type": "display_data"
    }
   ],
   "source": [
    "pred_dat.pivot(index = 'year', columns = 'male', values = 'predicted value').plot(grid = True).set_ylabel('predicted value')"
   ]
  },
  {
   "cell_type": "markdown",
   "metadata": {},
   "source": [
    "## The male logit regression\n",
    "\n",
    "(slide 91)"
   ]
  },
  {
   "cell_type": "code",
   "execution_count": 66,
   "metadata": {},
   "outputs": [],
   "source": [
    "# make year variable relative to the first year (slide 90)\n",
    "sub2['n_year'] = sub2['year'] - min(sub2['year'])"
   ]
  },
  {
   "cell_type": "code",
   "execution_count": 136,
   "metadata": {
    "slideshow": {
     "slide_type": "-"
    }
   },
   "outputs": [
    {
     "data": {
      "text/html": [
       "<table class=\"simpletable\">\n",
       "<caption>Generalized Linear Model Regression Results</caption>\n",
       "<tr>\n",
       "  <th>Dep. Variable:</th>     <td>muchconcern</td>   <th>  No. Observations:  </th>  <td> 14286</td>  \n",
       "</tr>\n",
       "<tr>\n",
       "  <th>Model:</th>                 <td>GLM</td>       <th>  Df Residuals:      </th>  <td> 14284</td>  \n",
       "</tr>\n",
       "<tr>\n",
       "  <th>Model Family:</th>       <td>Binomial</td>     <th>  Df Model:          </th>  <td>     1</td>  \n",
       "</tr>\n",
       "<tr>\n",
       "  <th>Link Function:</th>        <td>logit</td>      <th>  Scale:             </th> <td>  1.0000</td> \n",
       "</tr>\n",
       "<tr>\n",
       "  <th>Method:</th>               <td>IRLS</td>       <th>  Log-Likelihood:    </th> <td> -9275.8</td> \n",
       "</tr>\n",
       "<tr>\n",
       "  <th>Date:</th>           <td>Sun, 17 Jun 2018</td> <th>  Deviance:          </th> <td>  18552.</td> \n",
       "</tr>\n",
       "<tr>\n",
       "  <th>Time:</th>               <td>14:42:38</td>     <th>  Pearson chi2:      </th> <td>1.43e+04</td> \n",
       "</tr>\n",
       "<tr>\n",
       "  <th>No. Iterations:</th>         <td>4</td>        <th>  Covariance Type:   </th> <td>nonrobust</td>\n",
       "</tr>\n",
       "</table>\n",
       "<table class=\"simpletable\">\n",
       "<tr>\n",
       "      <td></td>         <th>coef</th>     <th>std err</th>      <th>z</th>      <th>P>|z|</th>  <th>[0.025</th>    <th>0.975]</th>  \n",
       "</tr>\n",
       "<tr>\n",
       "  <th>Intercept</th> <td>    0.8596</td> <td>    0.030</td> <td>   28.230</td> <td> 0.000</td> <td>    0.800</td> <td>    0.919</td>\n",
       "</tr>\n",
       "<tr>\n",
       "  <th>n_year</th>    <td>   -0.0174</td> <td>    0.001</td> <td>  -11.888</td> <td> 0.000</td> <td>   -0.020</td> <td>   -0.015</td>\n",
       "</tr>\n",
       "</table>"
      ],
      "text/plain": [
       "<class 'statsmodels.iolib.summary.Summary'>\n",
       "\"\"\"\n",
       "                 Generalized Linear Model Regression Results                  \n",
       "==============================================================================\n",
       "Dep. Variable:            muchconcern   No. Observations:                14286\n",
       "Model:                            GLM   Df Residuals:                    14284\n",
       "Model Family:                Binomial   Df Model:                            1\n",
       "Link Function:                  logit   Scale:                          1.0000\n",
       "Method:                          IRLS   Log-Likelihood:                -9275.8\n",
       "Date:                Sun, 17 Jun 2018   Deviance:                       18552.\n",
       "Time:                        14:42:38   Pearson chi2:                 1.43e+04\n",
       "No. Iterations:                     4   Covariance Type:             nonrobust\n",
       "==============================================================================\n",
       "                 coef    std err          z      P>|z|      [0.025      0.975]\n",
       "------------------------------------------------------------------------------\n",
       "Intercept      0.8596      0.030     28.230      0.000       0.800       0.919\n",
       "n_year        -0.0174      0.001    -11.888      0.000      -0.020      -0.015\n",
       "==============================================================================\n",
       "\"\"\""
      ]
     },
     "execution_count": 136,
     "metadata": {},
     "output_type": "execute_result"
    }
   ],
   "source": [
    "lrm_muchconcernM = smf.glm('muchconcern ~ n_year', data = sub2[sub2.sex == 'Male'], family=sm.families.Binomial()).fit()\n",
    "lrm_muchconcernM.summary()"
   ]
  },
  {
   "cell_type": "markdown",
   "metadata": {},
   "source": [
    "## The female logit regression\n",
    "\n",
    "(slide 92)"
   ]
  },
  {
   "cell_type": "code",
   "execution_count": 137,
   "metadata": {},
   "outputs": [
    {
     "data": {
      "text/html": [
       "<table class=\"simpletable\">\n",
       "<caption>Generalized Linear Model Regression Results</caption>\n",
       "<tr>\n",
       "  <th>Dep. Variable:</th>     <td>muchconcern</td>   <th>  No. Observations:  </th>  <td> 17495</td>  \n",
       "</tr>\n",
       "<tr>\n",
       "  <th>Model:</th>                 <td>GLM</td>       <th>  Df Residuals:      </th>  <td> 17493</td>  \n",
       "</tr>\n",
       "<tr>\n",
       "  <th>Model Family:</th>       <td>Binomial</td>     <th>  Df Model:          </th>  <td>     1</td>  \n",
       "</tr>\n",
       "<tr>\n",
       "  <th>Link Function:</th>        <td>logit</td>      <th>  Scale:             </th> <td>  1.0000</td> \n",
       "</tr>\n",
       "<tr>\n",
       "  <th>Method:</th>               <td>IRLS</td>       <th>  Log-Likelihood:    </th> <td> -10544.</td> \n",
       "</tr>\n",
       "<tr>\n",
       "  <th>Date:</th>           <td>Sun, 17 Jun 2018</td> <th>  Deviance:          </th> <td>  21088.</td> \n",
       "</tr>\n",
       "<tr>\n",
       "  <th>Time:</th>               <td>14:42:42</td>     <th>  Pearson chi2:      </th> <td>1.75e+04</td> \n",
       "</tr>\n",
       "<tr>\n",
       "  <th>No. Iterations:</th>         <td>5</td>        <th>  Covariance Type:   </th> <td>nonrobust</td>\n",
       "</tr>\n",
       "</table>\n",
       "<table class=\"simpletable\">\n",
       "<tr>\n",
       "      <td></td>         <th>coef</th>     <th>std err</th>      <th>z</th>      <th>P>|z|</th>  <th>[0.025</th>    <th>0.975]</th>  \n",
       "</tr>\n",
       "<tr>\n",
       "  <th>Intercept</th> <td>    1.0636</td> <td>    0.029</td> <td>   36.456</td> <td> 0.000</td> <td>    1.006</td> <td>    1.121</td>\n",
       "</tr>\n",
       "<tr>\n",
       "  <th>n_year</th>    <td>   -0.0107</td> <td>    0.001</td> <td>   -7.659</td> <td> 0.000</td> <td>   -0.013</td> <td>   -0.008</td>\n",
       "</tr>\n",
       "</table>"
      ],
      "text/plain": [
       "<class 'statsmodels.iolib.summary.Summary'>\n",
       "\"\"\"\n",
       "                 Generalized Linear Model Regression Results                  \n",
       "==============================================================================\n",
       "Dep. Variable:            muchconcern   No. Observations:                17495\n",
       "Model:                            GLM   Df Residuals:                    17493\n",
       "Model Family:                Binomial   Df Model:                            1\n",
       "Link Function:                  logit   Scale:                          1.0000\n",
       "Method:                          IRLS   Log-Likelihood:                -10544.\n",
       "Date:                Sun, 17 Jun 2018   Deviance:                       21088.\n",
       "Time:                        14:42:42   Pearson chi2:                 1.75e+04\n",
       "No. Iterations:                     5   Covariance Type:             nonrobust\n",
       "==============================================================================\n",
       "                 coef    std err          z      P>|z|      [0.025      0.975]\n",
       "------------------------------------------------------------------------------\n",
       "Intercept      1.0636      0.029     36.456      0.000       1.006       1.121\n",
       "n_year        -0.0107      0.001     -7.659      0.000      -0.013      -0.008\n",
       "==============================================================================\n",
       "\"\"\""
      ]
     },
     "execution_count": 137,
     "metadata": {},
     "output_type": "execute_result"
    }
   ],
   "source": [
    "lrm_muchconcernF = smf.glm('muchconcern ~ n_year', data = sub2[sub2.sex == 'Female'], family=sm.families.Binomial()).fit()\n",
    "lrm_muchconcernF.summary()"
   ]
  },
  {
   "cell_type": "markdown",
   "metadata": {},
   "source": [
    "## The Chi-sq test\n",
    "\n",
    "(slides 93-94)"
   ]
  },
  {
   "cell_type": "code",
   "execution_count": 138,
   "metadata": {},
   "outputs": [],
   "source": [
    "bM = lrm_muchconcernM.params['n_year']\n",
    "bF = lrm_muchconcernF.params['n_year']\n",
    "vM = lrm_muchconcernM.cov_params()['n_year']['n_year']\n",
    "vF = lrm_muchconcernF.cov_params()['n_year']['n_year']\n",
    "chi_sq = np.square(bM - bF)/(vM + vF)"
   ]
  },
  {
   "cell_type": "markdown",
   "metadata": {},
   "source": [
    "To calculate test statistics in Python, we can use probability distributions in `scipy.stats`"
   ]
  },
  {
   "cell_type": "code",
   "execution_count": 139,
   "metadata": {},
   "outputs": [
    {
     "data": {
      "text/plain": [
       "0.0009801211543221111"
      ]
     },
     "execution_count": 139,
     "metadata": {},
     "output_type": "execute_result"
    }
   ],
   "source": [
    "import scipy.stats as stats\n",
    "\n",
    "# calculate p-value for the chi-square test\n",
    "1 - stats.chi2.cdf(x = chi_sq, df = 1)"
   ]
  },
  {
   "cell_type": "markdown",
   "metadata": {},
   "source": [
    "## Ordinal and multinomial logit (NEED TO FIND PYTHON METHOD)"
   ]
  },
  {
   "cell_type": "code",
   "execution_count": null,
   "metadata": {},
   "outputs": [],
   "source": []
  },
  {
   "cell_type": "code",
   "execution_count": 249,
   "metadata": {},
   "outputs": [
    {
     "name": "stdout",
     "output_type": "stream",
     "text": [
      "Optimization terminated successfully.\n",
      "         Current function value: 0.265685\n",
      "         Iterations 7\n"
     ]
    },
    {
     "data": {
      "text/html": [
       "<table class=\"simpletable\">\n",
       "<caption>MNLogit Regression Results</caption>\n",
       "<tr>\n",
       "  <th>Dep. Variable:</th>   <td>littleconcern</td>  <th>  No. Observations:  </th>  <td> 14286</td> \n",
       "</tr>\n",
       "<tr>\n",
       "  <th>Model:</th>              <td>MNLogit</td>     <th>  Df Residuals:      </th>  <td> 14284</td> \n",
       "</tr>\n",
       "<tr>\n",
       "  <th>Method:</th>               <td>MLE</td>       <th>  Df Model:          </th>  <td>     1</td> \n",
       "</tr>\n",
       "<tr>\n",
       "  <th>Date:</th>          <td>Sun, 17 Jun 2018</td> <th>  Pseudo R-squ.:     </th> <td>0.001008</td>\n",
       "</tr>\n",
       "<tr>\n",
       "  <th>Time:</th>              <td>16:25:46</td>     <th>  Log-Likelihood:    </th> <td> -3795.6</td>\n",
       "</tr>\n",
       "<tr>\n",
       "  <th>converged:</th>           <td>True</td>       <th>  LL-Null:           </th> <td> -3799.4</td>\n",
       "</tr>\n",
       "<tr>\n",
       "  <th> </th>                      <td> </td>        <th>  LLR p-value:       </th> <td>0.005640</td>\n",
       "</tr>\n",
       "</table>\n",
       "<table class=\"simpletable\">\n",
       "<tr>\n",
       "  <th>littleconcern=1</th>    <th>coef</th>     <th>std err</th>      <th>z</th>      <th>P>|z|</th>  <th>[0.025</th>    <th>0.975]</th>  \n",
       "</tr>\n",
       "<tr>\n",
       "  <th>Intercept</th>       <td>  -17.1138</td> <td>    5.263</td> <td>   -3.252</td> <td> 0.001</td> <td>  -27.428</td> <td>   -6.799</td>\n",
       "</tr>\n",
       "<tr>\n",
       "  <th>year</th>            <td>    0.0073</td> <td>    0.003</td> <td>    2.775</td> <td> 0.006</td> <td>    0.002</td> <td>    0.013</td>\n",
       "</tr>\n",
       "</table>"
      ],
      "text/plain": [
       "<class 'statsmodels.iolib.summary.Summary'>\n",
       "\"\"\"\n",
       "                          MNLogit Regression Results                          \n",
       "==============================================================================\n",
       "Dep. Variable:          littleconcern   No. Observations:                14286\n",
       "Model:                        MNLogit   Df Residuals:                    14284\n",
       "Method:                           MLE   Df Model:                            1\n",
       "Date:                Sun, 17 Jun 2018   Pseudo R-squ.:                0.001008\n",
       "Time:                        16:25:46   Log-Likelihood:                -3795.6\n",
       "converged:                       True   LL-Null:                       -3799.4\n",
       "                                        LLR p-value:                  0.005640\n",
       "===================================================================================\n",
       "littleconcern=1       coef    std err          z      P>|z|      [0.025      0.975]\n",
       "-----------------------------------------------------------------------------------\n",
       "Intercept         -17.1138      5.263     -3.252      0.001     -27.428      -6.799\n",
       "year                0.0073      0.003      2.775      0.006       0.002       0.013\n",
       "===================================================================================\n",
       "\"\"\""
      ]
     },
     "execution_count": 249,
     "metadata": {},
     "output_type": "execute_result"
    }
   ],
   "source": [
    "smf.mnlogit('littleconcern ~ year', data = sub2[sub2.sex == 1]).fit().summary()"
   ]
  },
  {
   "cell_type": "markdown",
   "metadata": {},
   "source": [
    "## Periodization \n",
    "\n",
    "(slide 104)"
   ]
  },
  {
   "cell_type": "code",
   "execution_count": 143,
   "metadata": {},
   "outputs": [],
   "source": [
    "sub2['late'] = np.where(sub2.year > 1996, 1, 0)"
   ]
  },
  {
   "cell_type": "code",
   "execution_count": 150,
   "metadata": {},
   "outputs": [
    {
     "data": {
      "text/html": [
       "<table class=\"simpletable\">\n",
       "<caption>OLS Regression Results</caption>\n",
       "<tr>\n",
       "  <th>Dep. Variable:</th>        <td>natcrime</td>     <th>  R-squared:         </th> <td>   0.014</td> \n",
       "</tr>\n",
       "<tr>\n",
       "  <th>Model:</th>                   <td>OLS</td>       <th>  Adj. R-squared:    </th> <td>   0.014</td> \n",
       "</tr>\n",
       "<tr>\n",
       "  <th>Method:</th>             <td>Least Squares</td>  <th>  F-statistic:       </th> <td>   153.2</td> \n",
       "</tr>\n",
       "<tr>\n",
       "  <th>Date:</th>             <td>Sun, 17 Jun 2018</td> <th>  Prob (F-statistic):</th> <td>1.48e-98</td> \n",
       "</tr>\n",
       "<tr>\n",
       "  <th>Time:</th>                 <td>14:50:27</td>     <th>  Log-Likelihood:    </th> <td> -28475.</td> \n",
       "</tr>\n",
       "<tr>\n",
       "  <th>No. Observations:</th>      <td> 31781</td>      <th>  AIC:               </th> <td>5.696e+04</td>\n",
       "</tr>\n",
       "<tr>\n",
       "  <th>Df Residuals:</th>          <td> 31777</td>      <th>  BIC:               </th> <td>5.699e+04</td>\n",
       "</tr>\n",
       "<tr>\n",
       "  <th>Df Model:</th>              <td>     3</td>      <th>                     </th>     <td> </td>    \n",
       "</tr>\n",
       "<tr>\n",
       "  <th>Covariance Type:</th>      <td>nonrobust</td>    <th>                     </th>     <td> </td>    \n",
       "</tr>\n",
       "</table>\n",
       "<table class=\"simpletable\">\n",
       "<tr>\n",
       "          <td></td>            <th>coef</th>     <th>std err</th>      <th>t</th>      <th>P>|t|</th>  <th>[0.025</th>    <th>0.975]</th>  \n",
       "</tr>\n",
       "<tr>\n",
       "  <th>Intercept</th>        <td>    2.6070</td> <td>    0.006</td> <td>  438.124</td> <td> 0.000</td> <td>    2.595</td> <td>    2.619</td>\n",
       "</tr>\n",
       "<tr>\n",
       "  <th>C(sex)[T.2]</th>      <td>    0.0794</td> <td>    0.008</td> <td>    9.895</td> <td> 0.000</td> <td>    0.064</td> <td>    0.095</td>\n",
       "</tr>\n",
       "<tr>\n",
       "  <th>late</th>             <td>   -0.1417</td> <td>    0.011</td> <td>  -13.157</td> <td> 0.000</td> <td>   -0.163</td> <td>   -0.121</td>\n",
       "</tr>\n",
       "<tr>\n",
       "  <th>late:C(sex)[T.2]</th> <td>    0.0545</td> <td>    0.015</td> <td>    3.754</td> <td> 0.000</td> <td>    0.026</td> <td>    0.083</td>\n",
       "</tr>\n",
       "</table>\n",
       "<table class=\"simpletable\">\n",
       "<tr>\n",
       "  <th>Omnibus:</th>       <td>5783.866</td> <th>  Durbin-Watson:     </th> <td>   1.958</td>\n",
       "</tr>\n",
       "<tr>\n",
       "  <th>Prob(Omnibus):</th>  <td> 0.000</td>  <th>  Jarque-Bera (JB):  </th> <td>9462.520</td>\n",
       "</tr>\n",
       "<tr>\n",
       "  <th>Skew:</th>           <td>-1.291</td>  <th>  Prob(JB):          </th> <td>    0.00</td>\n",
       "</tr>\n",
       "<tr>\n",
       "  <th>Kurtosis:</th>       <td> 3.689</td>  <th>  Cond. No.          </th> <td>    6.67</td>\n",
       "</tr>\n",
       "</table><br/><br/>Warnings:<br/>[1] Standard Errors assume that the covariance matrix of the errors is correctly specified."
      ],
      "text/plain": [
       "<class 'statsmodels.iolib.summary.Summary'>\n",
       "\"\"\"\n",
       "                            OLS Regression Results                            \n",
       "==============================================================================\n",
       "Dep. Variable:               natcrime   R-squared:                       0.014\n",
       "Model:                            OLS   Adj. R-squared:                  0.014\n",
       "Method:                 Least Squares   F-statistic:                     153.2\n",
       "Date:                Sun, 17 Jun 2018   Prob (F-statistic):           1.48e-98\n",
       "Time:                        14:50:27   Log-Likelihood:                -28475.\n",
       "No. Observations:               31781   AIC:                         5.696e+04\n",
       "Df Residuals:                   31777   BIC:                         5.699e+04\n",
       "Df Model:                           3                                         \n",
       "Covariance Type:            nonrobust                                         \n",
       "====================================================================================\n",
       "                       coef    std err          t      P>|t|      [0.025      0.975]\n",
       "------------------------------------------------------------------------------------\n",
       "Intercept            2.6070      0.006    438.124      0.000       2.595       2.619\n",
       "C(sex)[T.2]          0.0794      0.008      9.895      0.000       0.064       0.095\n",
       "late                -0.1417      0.011    -13.157      0.000      -0.163      -0.121\n",
       "late:C(sex)[T.2]     0.0545      0.015      3.754      0.000       0.026       0.083\n",
       "==============================================================================\n",
       "Omnibus:                     5783.866   Durbin-Watson:                   1.958\n",
       "Prob(Omnibus):                  0.000   Jarque-Bera (JB):             9462.520\n",
       "Skew:                          -1.291   Prob(JB):                         0.00\n",
       "Kurtosis:                       3.689   Cond. No.                         6.67\n",
       "==============================================================================\n",
       "\n",
       "Warnings:\n",
       "[1] Standard Errors assume that the covariance matrix of the errors is correctly specified.\n",
       "\"\"\""
      ]
     },
     "execution_count": 150,
     "metadata": {},
     "output_type": "execute_result"
    }
   ],
   "source": [
    "# map the indicators variables for sex back to 1 and 2\n",
    "sub2['sex'].replace({'Male': 1, 'Female': 2}, inplace = True)\n",
    "\n",
    "lm_natcrime_period_int = smf.ols('natcrime ~ late*C(sex)', data = sub2).fit()\n",
    "lm_natcrime_period_int.summary()"
   ]
  },
  {
   "cell_type": "markdown",
   "metadata": {},
   "source": [
    "## Unpooled regressions "
   ]
  },
  {
   "cell_type": "code",
   "execution_count": 237,
   "metadata": {},
   "outputs": [],
   "source": [
    "gss['south'] = np.where(((gss.region > 4) & (gss.region < 8)), 1, 0)\n",
    "gss['rconarmy'] = 4 - gss.conarmy"
   ]
  },
  {
   "cell_type": "markdown",
   "metadata": {},
   "source": [
    "### Regression for 1970 - 1980 (slide 112)"
   ]
  },
  {
   "cell_type": "code",
   "execution_count": 238,
   "metadata": {},
   "outputs": [
    {
     "data": {
      "text/html": [
       "<table class=\"simpletable\">\n",
       "<caption>OLS Regression Results</caption>\n",
       "<tr>\n",
       "  <th>Dep. Variable:</th>        <td>rconarmy</td>     <th>  R-squared:         </th> <td>   0.046</td> \n",
       "</tr>\n",
       "<tr>\n",
       "  <th>Model:</th>                   <td>OLS</td>       <th>  Adj. R-squared:    </th> <td>   0.046</td> \n",
       "</tr>\n",
       "<tr>\n",
       "  <th>Method:</th>             <td>Least Squares</td>  <th>  F-statistic:       </th> <td>   80.44</td> \n",
       "</tr>\n",
       "<tr>\n",
       "  <th>Date:</th>             <td>Sun, 17 Jun 2018</td> <th>  Prob (F-statistic):</th> <td>1.21e-98</td> \n",
       "</tr>\n",
       "<tr>\n",
       "  <th>Time:</th>                 <td>16:12:30</td>     <th>  Log-Likelihood:    </th> <td> -9960.2</td> \n",
       "</tr>\n",
       "<tr>\n",
       "  <th>No. Observations:</th>      <td>  9972</td>      <th>  AIC:               </th> <td>1.993e+04</td>\n",
       "</tr>\n",
       "<tr>\n",
       "  <th>Df Residuals:</th>          <td>  9965</td>      <th>  BIC:               </th> <td>1.998e+04</td>\n",
       "</tr>\n",
       "<tr>\n",
       "  <th>Df Model:</th>              <td>     6</td>      <th>                     </th>     <td> </td>    \n",
       "</tr>\n",
       "<tr>\n",
       "  <th>Covariance Type:</th>      <td>nonrobust</td>    <th>                     </th>     <td> </td>    \n",
       "</tr>\n",
       "</table>\n",
       "<table class=\"simpletable\">\n",
       "<tr>\n",
       "       <td></td>          <th>coef</th>     <th>std err</th>      <th>t</th>      <th>P>|t|</th>  <th>[0.025</th>    <th>0.975]</th>  \n",
       "</tr>\n",
       "<tr>\n",
       "  <th>Intercept</th>   <td>   20.3048</td> <td>    5.848</td> <td>    3.472</td> <td> 0.001</td> <td>    8.842</td> <td>   31.768</td>\n",
       "</tr>\n",
       "<tr>\n",
       "  <th>C(sex)[T.2]</th> <td>   -0.0390</td> <td>    0.013</td> <td>   -2.919</td> <td> 0.004</td> <td>   -0.065</td> <td>   -0.013</td>\n",
       "</tr>\n",
       "<tr>\n",
       "  <th>age</th>         <td>    0.0021</td> <td>    0.000</td> <td>    5.099</td> <td> 0.000</td> <td>    0.001</td> <td>    0.003</td>\n",
       "</tr>\n",
       "<tr>\n",
       "  <th>educ</th>        <td>   -0.0301</td> <td>    0.002</td> <td>  -13.585</td> <td> 0.000</td> <td>   -0.034</td> <td>   -0.026</td>\n",
       "</tr>\n",
       "<tr>\n",
       "  <th>attend</th>      <td>    0.0152</td> <td>    0.003</td> <td>    5.952</td> <td> 0.000</td> <td>    0.010</td> <td>    0.020</td>\n",
       "</tr>\n",
       "<tr>\n",
       "  <th>south</th>       <td>    0.1323</td> <td>    0.014</td> <td>    9.267</td> <td> 0.000</td> <td>    0.104</td> <td>    0.160</td>\n",
       "</tr>\n",
       "<tr>\n",
       "  <th>year</th>        <td>   -0.0091</td> <td>    0.003</td> <td>   -3.061</td> <td> 0.002</td> <td>   -0.015</td> <td>   -0.003</td>\n",
       "</tr>\n",
       "</table>\n",
       "<table class=\"simpletable\">\n",
       "<tr>\n",
       "  <th>Omnibus:</th>       <td>726.940</td> <th>  Durbin-Watson:     </th> <td>   1.913</td>\n",
       "</tr>\n",
       "<tr>\n",
       "  <th>Prob(Omnibus):</th> <td> 0.000</td>  <th>  Jarque-Bera (JB):  </th> <td> 349.259</td>\n",
       "</tr>\n",
       "<tr>\n",
       "  <th>Skew:</th>          <td>-0.278</td>  <th>  Prob(JB):          </th> <td>1.44e-76</td>\n",
       "</tr>\n",
       "<tr>\n",
       "  <th>Kurtosis:</th>      <td> 2.271</td>  <th>  Cond. No.          </th> <td>1.76e+06</td>\n",
       "</tr>\n",
       "</table><br/><br/>Warnings:<br/>[1] Standard Errors assume that the covariance matrix of the errors is correctly specified.<br/>[2] The condition number is large, 1.76e+06. This might indicate that there are<br/>strong multicollinearity or other numerical problems."
      ],
      "text/plain": [
       "<class 'statsmodels.iolib.summary.Summary'>\n",
       "\"\"\"\n",
       "                            OLS Regression Results                            \n",
       "==============================================================================\n",
       "Dep. Variable:               rconarmy   R-squared:                       0.046\n",
       "Model:                            OLS   Adj. R-squared:                  0.046\n",
       "Method:                 Least Squares   F-statistic:                     80.44\n",
       "Date:                Sun, 17 Jun 2018   Prob (F-statistic):           1.21e-98\n",
       "Time:                        16:12:30   Log-Likelihood:                -9960.2\n",
       "No. Observations:                9972   AIC:                         1.993e+04\n",
       "Df Residuals:                    9965   BIC:                         1.998e+04\n",
       "Df Model:                           6                                         \n",
       "Covariance Type:            nonrobust                                         \n",
       "===============================================================================\n",
       "                  coef    std err          t      P>|t|      [0.025      0.975]\n",
       "-------------------------------------------------------------------------------\n",
       "Intercept      20.3048      5.848      3.472      0.001       8.842      31.768\n",
       "C(sex)[T.2]    -0.0390      0.013     -2.919      0.004      -0.065      -0.013\n",
       "age             0.0021      0.000      5.099      0.000       0.001       0.003\n",
       "educ           -0.0301      0.002    -13.585      0.000      -0.034      -0.026\n",
       "attend          0.0152      0.003      5.952      0.000       0.010       0.020\n",
       "south           0.1323      0.014      9.267      0.000       0.104       0.160\n",
       "year           -0.0091      0.003     -3.061      0.002      -0.015      -0.003\n",
       "==============================================================================\n",
       "Omnibus:                      726.940   Durbin-Watson:                   1.913\n",
       "Prob(Omnibus):                  0.000   Jarque-Bera (JB):              349.259\n",
       "Skew:                          -0.278   Prob(JB):                     1.44e-76\n",
       "Kurtosis:                       2.271   Cond. No.                     1.76e+06\n",
       "==============================================================================\n",
       "\n",
       "Warnings:\n",
       "[1] Standard Errors assume that the covariance matrix of the errors is correctly specified.\n",
       "[2] The condition number is large, 1.76e+06. This might indicate that there are\n",
       "strong multicollinearity or other numerical problems.\n",
       "\"\"\""
      ]
     },
     "execution_count": 238,
     "metadata": {},
     "output_type": "execute_result"
    }
   ],
   "source": [
    "# subset the data to include only the relevant years\n",
    "sub70 = gss[(gss['year'] >= 1970) & (gss['year'] <= 1980)]\n",
    "\n",
    "# build model using subsetted data\n",
    "army70 = smf.ols('rconarmy ~ age + C(sex) + educ + attend + south + year', data = sub70).fit()\n",
    "army70.summary()"
   ]
  },
  {
   "cell_type": "markdown",
   "metadata": {},
   "source": [
    "### Regression for 2000 - 2010 (slide 114)"
   ]
  },
  {
   "cell_type": "code",
   "execution_count": 203,
   "metadata": {},
   "outputs": [
    {
     "data": {
      "text/html": [
       "<table class=\"simpletable\">\n",
       "<caption>OLS Regression Results</caption>\n",
       "<tr>\n",
       "  <th>Dep. Variable:</th>        <td>rconarmy</td>     <th>  R-squared:         </th> <td>   0.018</td> \n",
       "</tr>\n",
       "<tr>\n",
       "  <th>Model:</th>                   <td>OLS</td>       <th>  Adj. R-squared:    </th> <td>   0.017</td> \n",
       "</tr>\n",
       "<tr>\n",
       "  <th>Method:</th>             <td>Least Squares</td>  <th>  F-statistic:       </th> <td>   24.15</td> \n",
       "</tr>\n",
       "<tr>\n",
       "  <th>Date:</th>             <td>Sun, 17 Jun 2018</td> <th>  Prob (F-statistic):</th> <td>1.69e-28</td> \n",
       "</tr>\n",
       "<tr>\n",
       "  <th>Time:</th>                 <td>15:27:34</td>     <th>  Log-Likelihood:    </th> <td> -8168.6</td> \n",
       "</tr>\n",
       "<tr>\n",
       "  <th>No. Observations:</th>      <td>  8122</td>      <th>  AIC:               </th> <td>1.635e+04</td>\n",
       "</tr>\n",
       "<tr>\n",
       "  <th>Df Residuals:</th>          <td>  8115</td>      <th>  BIC:               </th> <td>1.640e+04</td>\n",
       "</tr>\n",
       "<tr>\n",
       "  <th>Df Model:</th>              <td>     6</td>      <th>                     </th>     <td> </td>    \n",
       "</tr>\n",
       "<tr>\n",
       "  <th>Covariance Type:</th>      <td>nonrobust</td>    <th>                     </th>     <td> </td>    \n",
       "</tr>\n",
       "</table>\n",
       "<table class=\"simpletable\">\n",
       "<tr>\n",
       "       <td></td>          <th>coef</th>     <th>std err</th>      <th>t</th>      <th>P>|t|</th>  <th>[0.025</th>    <th>0.975]</th>  \n",
       "</tr>\n",
       "<tr>\n",
       "  <th>Intercept</th>   <td>  -12.4084</td> <td>    4.202</td> <td>   -2.953</td> <td> 0.003</td> <td>  -20.646</td> <td>   -4.171</td>\n",
       "</tr>\n",
       "<tr>\n",
       "  <th>C(sex)[T.2]</th> <td>   -0.1080</td> <td>    0.015</td> <td>   -7.255</td> <td> 0.000</td> <td>   -0.137</td> <td>   -0.079</td>\n",
       "</tr>\n",
       "<tr>\n",
       "  <th>age</th>         <td>    0.0003</td> <td>    0.000</td> <td>    0.650</td> <td> 0.516</td> <td>   -0.001</td> <td>    0.001</td>\n",
       "</tr>\n",
       "<tr>\n",
       "  <th>educ</th>        <td>   -0.0108</td> <td>    0.002</td> <td>   -4.419</td> <td> 0.000</td> <td>   -0.016</td> <td>   -0.006</td>\n",
       "</tr>\n",
       "<tr>\n",
       "  <th>attend</th>      <td>    0.0150</td> <td>    0.003</td> <td>    5.465</td> <td> 0.000</td> <td>    0.010</td> <td>    0.020</td>\n",
       "</tr>\n",
       "<tr>\n",
       "  <th>south</th>       <td>    0.0795</td> <td>    0.015</td> <td>    5.159</td> <td> 0.000</td> <td>    0.049</td> <td>    0.110</td>\n",
       "</tr>\n",
       "<tr>\n",
       "  <th>year</th>        <td>    0.0074</td> <td>    0.002</td> <td>    3.546</td> <td> 0.000</td> <td>    0.003</td> <td>    0.012</td>\n",
       "</tr>\n",
       "</table>\n",
       "<table class=\"simpletable\">\n",
       "<tr>\n",
       "  <th>Omnibus:</th>       <td>705.487</td> <th>  Durbin-Watson:     </th> <td>   1.911</td> \n",
       "</tr>\n",
       "<tr>\n",
       "  <th>Prob(Omnibus):</th> <td> 0.000</td>  <th>  Jarque-Bera (JB):  </th> <td> 670.504</td> \n",
       "</tr>\n",
       "<tr>\n",
       "  <th>Skew:</th>          <td>-0.642</td>  <th>  Prob(JB):          </th> <td>2.52e-146</td>\n",
       "</tr>\n",
       "<tr>\n",
       "  <th>Kurtosis:</th>      <td> 2.422</td>  <th>  Cond. No.          </th> <td>1.15e+06</td> \n",
       "</tr>\n",
       "</table><br/><br/>Warnings:<br/>[1] Standard Errors assume that the covariance matrix of the errors is correctly specified.<br/>[2] The condition number is large, 1.15e+06. This might indicate that there are<br/>strong multicollinearity or other numerical problems."
      ],
      "text/plain": [
       "<class 'statsmodels.iolib.summary.Summary'>\n",
       "\"\"\"\n",
       "                            OLS Regression Results                            \n",
       "==============================================================================\n",
       "Dep. Variable:               rconarmy   R-squared:                       0.018\n",
       "Model:                            OLS   Adj. R-squared:                  0.017\n",
       "Method:                 Least Squares   F-statistic:                     24.15\n",
       "Date:                Sun, 17 Jun 2018   Prob (F-statistic):           1.69e-28\n",
       "Time:                        15:27:34   Log-Likelihood:                -8168.6\n",
       "No. Observations:                8122   AIC:                         1.635e+04\n",
       "Df Residuals:                    8115   BIC:                         1.640e+04\n",
       "Df Model:                           6                                         \n",
       "Covariance Type:            nonrobust                                         \n",
       "===============================================================================\n",
       "                  coef    std err          t      P>|t|      [0.025      0.975]\n",
       "-------------------------------------------------------------------------------\n",
       "Intercept     -12.4084      4.202     -2.953      0.003     -20.646      -4.171\n",
       "C(sex)[T.2]    -0.1080      0.015     -7.255      0.000      -0.137      -0.079\n",
       "age             0.0003      0.000      0.650      0.516      -0.001       0.001\n",
       "educ           -0.0108      0.002     -4.419      0.000      -0.016      -0.006\n",
       "attend          0.0150      0.003      5.465      0.000       0.010       0.020\n",
       "south           0.0795      0.015      5.159      0.000       0.049       0.110\n",
       "year            0.0074      0.002      3.546      0.000       0.003       0.012\n",
       "==============================================================================\n",
       "Omnibus:                      705.487   Durbin-Watson:                   1.911\n",
       "Prob(Omnibus):                  0.000   Jarque-Bera (JB):              670.504\n",
       "Skew:                          -0.642   Prob(JB):                    2.52e-146\n",
       "Kurtosis:                       2.422   Cond. No.                     1.15e+06\n",
       "==============================================================================\n",
       "\n",
       "Warnings:\n",
       "[1] Standard Errors assume that the covariance matrix of the errors is correctly specified.\n",
       "[2] The condition number is large, 1.15e+06. This might indicate that there are\n",
       "strong multicollinearity or other numerical problems.\n",
       "\"\"\""
      ]
     },
     "execution_count": 203,
     "metadata": {},
     "output_type": "execute_result"
    }
   ],
   "source": [
    "sub00 = gss[(gss['year'] >= 2000) & (gss['year'] <= 2010)]\n",
    "army00 = smf.ols('rconarmy ~ age + C(sex) + educ + attend + south + year', data = sub00).fit()\n",
    "army00.summary()"
   ]
  },
  {
   "cell_type": "markdown",
   "metadata": {},
   "source": [
    "## Comparing standardized coefficients \n",
    "\n",
    "(slide 117)"
   ]
  },
  {
   "cell_type": "markdown",
   "metadata": {},
   "source": [
    "To calculate standardized regression coefficients in Python, we need to first standardize the data, then refit the model. \n",
    "\n",
    "We can standardize the data using the `sklearn.preprocessing` package. "
   ]
  },
  {
   "cell_type": "code",
   "execution_count": 239,
   "metadata": {},
   "outputs": [],
   "source": [
    "from sklearn.preprocessing import StandardScaler\n",
    "\n",
    "# subset the data to only include the relevant columns and remove NA's\n",
    "sub70 = sub70[['rconarmy', 'sex', 'age', 'educ', 'attend', 'south', 'year']]\n",
    "sub70 = sub70.dropna()"
   ]
  },
  {
   "cell_type": "code",
   "execution_count": 241,
   "metadata": {},
   "outputs": [],
   "source": [
    "# standardize the data, which returns a numpy array\n",
    "sub70_scaled = standard_scaler.fit_transform(sub70)\n",
    "\n",
    "# convert to pandas dataframe in order to refit the model\n",
    "sub70_standardized = pd.DataFrame(sub70_scaled, columns = ['rconarmy', 'sex', 'age', 'educ', 'attend', 'south', 'year'])"
   ]
  },
  {
   "cell_type": "code",
   "execution_count": 242,
   "metadata": {},
   "outputs": [
    {
     "data": {
      "text/html": [
       "<table class=\"simpletable\">\n",
       "<caption>OLS Regression Results</caption>\n",
       "<tr>\n",
       "  <th>Dep. Variable:</th>        <td>rconarmy</td>     <th>  R-squared:         </th> <td>   0.046</td> \n",
       "</tr>\n",
       "<tr>\n",
       "  <th>Model:</th>                   <td>OLS</td>       <th>  Adj. R-squared:    </th> <td>   0.046</td> \n",
       "</tr>\n",
       "<tr>\n",
       "  <th>Method:</th>             <td>Least Squares</td>  <th>  F-statistic:       </th> <td>   80.44</td> \n",
       "</tr>\n",
       "<tr>\n",
       "  <th>Date:</th>             <td>Sun, 17 Jun 2018</td> <th>  Prob (F-statistic):</th> <td>1.21e-98</td> \n",
       "</tr>\n",
       "<tr>\n",
       "  <th>Time:</th>                 <td>16:14:33</td>     <th>  Log-Likelihood:    </th> <td> -13914.</td> \n",
       "</tr>\n",
       "<tr>\n",
       "  <th>No. Observations:</th>      <td>  9972</td>      <th>  AIC:               </th> <td>2.784e+04</td>\n",
       "</tr>\n",
       "<tr>\n",
       "  <th>Df Residuals:</th>          <td>  9965</td>      <th>  BIC:               </th> <td>2.789e+04</td>\n",
       "</tr>\n",
       "<tr>\n",
       "  <th>Df Model:</th>              <td>     6</td>      <th>                     </th>     <td> </td>    \n",
       "</tr>\n",
       "<tr>\n",
       "  <th>Covariance Type:</th>      <td>nonrobust</td>    <th>                     </th>     <td> </td>    \n",
       "</tr>\n",
       "</table>\n",
       "<table class=\"simpletable\">\n",
       "<tr>\n",
       "      <td></td>         <th>coef</th>     <th>std err</th>      <th>t</th>      <th>P>|t|</th>  <th>[0.025</th>    <th>0.975]</th>  \n",
       "</tr>\n",
       "<tr>\n",
       "  <th>Intercept</th> <td>-4.601e-16</td> <td>    0.010</td> <td> -4.7e-14</td> <td> 1.000</td> <td>   -0.019</td> <td>    0.019</td>\n",
       "</tr>\n",
       "<tr>\n",
       "  <th>age</th>       <td>    0.0533</td> <td>    0.010</td> <td>    5.099</td> <td> 0.000</td> <td>    0.033</td> <td>    0.074</td>\n",
       "</tr>\n",
       "<tr>\n",
       "  <th>sex</th>       <td>   -0.0289</td> <td>    0.010</td> <td>   -2.919</td> <td> 0.004</td> <td>   -0.048</td> <td>   -0.009</td>\n",
       "</tr>\n",
       "<tr>\n",
       "  <th>educ</th>      <td>   -0.1420</td> <td>    0.010</td> <td>  -13.585</td> <td> 0.000</td> <td>   -0.162</td> <td>   -0.121</td>\n",
       "</tr>\n",
       "<tr>\n",
       "  <th>attend</th>    <td>    0.0599</td> <td>    0.010</td> <td>    5.952</td> <td> 0.000</td> <td>    0.040</td> <td>    0.080</td>\n",
       "</tr>\n",
       "<tr>\n",
       "  <th>south</th>     <td>    0.0921</td> <td>    0.010</td> <td>    9.267</td> <td> 0.000</td> <td>    0.073</td> <td>    0.112</td>\n",
       "</tr>\n",
       "<tr>\n",
       "  <th>year</th>      <td>   -0.0300</td> <td>    0.010</td> <td>   -3.061</td> <td> 0.002</td> <td>   -0.049</td> <td>   -0.011</td>\n",
       "</tr>\n",
       "</table>\n",
       "<table class=\"simpletable\">\n",
       "<tr>\n",
       "  <th>Omnibus:</th>       <td>726.940</td> <th>  Durbin-Watson:     </th> <td>   1.913</td>\n",
       "</tr>\n",
       "<tr>\n",
       "  <th>Prob(Omnibus):</th> <td> 0.000</td>  <th>  Jarque-Bera (JB):  </th> <td> 349.259</td>\n",
       "</tr>\n",
       "<tr>\n",
       "  <th>Skew:</th>          <td>-0.278</td>  <th>  Prob(JB):          </th> <td>1.44e-76</td>\n",
       "</tr>\n",
       "<tr>\n",
       "  <th>Kurtosis:</th>      <td> 2.271</td>  <th>  Cond. No.          </th> <td>    1.52</td>\n",
       "</tr>\n",
       "</table><br/><br/>Warnings:<br/>[1] Standard Errors assume that the covariance matrix of the errors is correctly specified."
      ],
      "text/plain": [
       "<class 'statsmodels.iolib.summary.Summary'>\n",
       "\"\"\"\n",
       "                            OLS Regression Results                            \n",
       "==============================================================================\n",
       "Dep. Variable:               rconarmy   R-squared:                       0.046\n",
       "Model:                            OLS   Adj. R-squared:                  0.046\n",
       "Method:                 Least Squares   F-statistic:                     80.44\n",
       "Date:                Sun, 17 Jun 2018   Prob (F-statistic):           1.21e-98\n",
       "Time:                        16:14:33   Log-Likelihood:                -13914.\n",
       "No. Observations:                9972   AIC:                         2.784e+04\n",
       "Df Residuals:                    9965   BIC:                         2.789e+04\n",
       "Df Model:                           6                                         \n",
       "Covariance Type:            nonrobust                                         \n",
       "==============================================================================\n",
       "                 coef    std err          t      P>|t|      [0.025      0.975]\n",
       "------------------------------------------------------------------------------\n",
       "Intercept  -4.601e-16      0.010   -4.7e-14      1.000      -0.019       0.019\n",
       "age            0.0533      0.010      5.099      0.000       0.033       0.074\n",
       "sex           -0.0289      0.010     -2.919      0.004      -0.048      -0.009\n",
       "educ          -0.1420      0.010    -13.585      0.000      -0.162      -0.121\n",
       "attend         0.0599      0.010      5.952      0.000       0.040       0.080\n",
       "south          0.0921      0.010      9.267      0.000       0.073       0.112\n",
       "year          -0.0300      0.010     -3.061      0.002      -0.049      -0.011\n",
       "==============================================================================\n",
       "Omnibus:                      726.940   Durbin-Watson:                   1.913\n",
       "Prob(Omnibus):                  0.000   Jarque-Bera (JB):              349.259\n",
       "Skew:                          -0.278   Prob(JB):                     1.44e-76\n",
       "Kurtosis:                       2.271   Cond. No.                         1.52\n",
       "==============================================================================\n",
       "\n",
       "Warnings:\n",
       "[1] Standard Errors assume that the covariance matrix of the errors is correctly specified.\n",
       "\"\"\""
      ]
     },
     "execution_count": 242,
     "metadata": {},
     "output_type": "execute_result"
    }
   ],
   "source": [
    "# refit model using standardized dataframe\n",
    "smf.ols('rconarmy ~ age + sex + educ + attend + south + year', data = sub70_standardized).fit().summary()"
   ]
  },
  {
   "cell_type": "code",
   "execution_count": 243,
   "metadata": {},
   "outputs": [],
   "source": [
    "# Do the above steps again for the 2000-2010 dataframe\n",
    "\n",
    "sub00 = sub00_10[['rconarmy', 'age', 'sex', 'educ', 'attend', 'south', 'year']]\n",
    "sub00 = sub00.dropna()\n",
    "\n",
    "sub00_scaled = standard_scaler.fit_transform(sub00)\n",
    "sub00_standardized = pd.DataFrame(sub00_scaled, columns = ['rconarmy', 'age', 'sex', 'educ', 'attend', 'south', 'year'])"
   ]
  },
  {
   "cell_type": "code",
   "execution_count": 244,
   "metadata": {},
   "outputs": [
    {
     "data": {
      "text/html": [
       "<table class=\"simpletable\">\n",
       "<caption>OLS Regression Results</caption>\n",
       "<tr>\n",
       "  <th>Dep. Variable:</th>        <td>rconarmy</td>     <th>  R-squared:         </th> <td>   0.018</td> \n",
       "</tr>\n",
       "<tr>\n",
       "  <th>Model:</th>                   <td>OLS</td>       <th>  Adj. R-squared:    </th> <td>   0.017</td> \n",
       "</tr>\n",
       "<tr>\n",
       "  <th>Method:</th>             <td>Least Squares</td>  <th>  F-statistic:       </th> <td>   24.15</td> \n",
       "</tr>\n",
       "<tr>\n",
       "  <th>Date:</th>             <td>Sun, 17 Jun 2018</td> <th>  Prob (F-statistic):</th> <td>1.69e-28</td> \n",
       "</tr>\n",
       "<tr>\n",
       "  <th>Time:</th>                 <td>16:15:00</td>     <th>  Log-Likelihood:    </th> <td> -11453.</td> \n",
       "</tr>\n",
       "<tr>\n",
       "  <th>No. Observations:</th>      <td>  8122</td>      <th>  AIC:               </th> <td>2.292e+04</td>\n",
       "</tr>\n",
       "<tr>\n",
       "  <th>Df Residuals:</th>          <td>  8115</td>      <th>  BIC:               </th> <td>2.297e+04</td>\n",
       "</tr>\n",
       "<tr>\n",
       "  <th>Df Model:</th>              <td>     6</td>      <th>                     </th>     <td> </td>    \n",
       "</tr>\n",
       "<tr>\n",
       "  <th>Covariance Type:</th>      <td>nonrobust</td>    <th>                     </th>     <td> </td>    \n",
       "</tr>\n",
       "</table>\n",
       "<table class=\"simpletable\">\n",
       "<tr>\n",
       "      <td></td>         <th>coef</th>     <th>std err</th>      <th>t</th>      <th>P>|t|</th>  <th>[0.025</th>    <th>0.975]</th>  \n",
       "</tr>\n",
       "<tr>\n",
       "  <th>Intercept</th> <td> 1.618e-15</td> <td>    0.011</td> <td> 1.47e-13</td> <td> 1.000</td> <td>   -0.022</td> <td>    0.022</td>\n",
       "</tr>\n",
       "<tr>\n",
       "  <th>age</th>       <td>    0.0073</td> <td>    0.011</td> <td>    0.650</td> <td> 0.516</td> <td>   -0.015</td> <td>    0.029</td>\n",
       "</tr>\n",
       "<tr>\n",
       "  <th>sex</th>       <td>   -0.0804</td> <td>    0.011</td> <td>   -7.255</td> <td> 0.000</td> <td>   -0.102</td> <td>   -0.059</td>\n",
       "</tr>\n",
       "<tr>\n",
       "  <th>educ</th>      <td>   -0.0490</td> <td>    0.011</td> <td>   -4.419</td> <td> 0.000</td> <td>   -0.071</td> <td>   -0.027</td>\n",
       "</tr>\n",
       "<tr>\n",
       "  <th>attend</th>    <td>    0.0618</td> <td>    0.011</td> <td>    5.465</td> <td> 0.000</td> <td>    0.040</td> <td>    0.084</td>\n",
       "</tr>\n",
       "<tr>\n",
       "  <th>south</th>     <td>    0.0575</td> <td>    0.011</td> <td>    5.159</td> <td> 0.000</td> <td>    0.036</td> <td>    0.079</td>\n",
       "</tr>\n",
       "<tr>\n",
       "  <th>year</th>      <td>    0.0391</td> <td>    0.011</td> <td>    3.546</td> <td> 0.000</td> <td>    0.017</td> <td>    0.061</td>\n",
       "</tr>\n",
       "</table>\n",
       "<table class=\"simpletable\">\n",
       "<tr>\n",
       "  <th>Omnibus:</th>       <td>705.487</td> <th>  Durbin-Watson:     </th> <td>   1.911</td> \n",
       "</tr>\n",
       "<tr>\n",
       "  <th>Prob(Omnibus):</th> <td> 0.000</td>  <th>  Jarque-Bera (JB):  </th> <td> 670.504</td> \n",
       "</tr>\n",
       "<tr>\n",
       "  <th>Skew:</th>          <td>-0.642</td>  <th>  Prob(JB):          </th> <td>2.52e-146</td>\n",
       "</tr>\n",
       "<tr>\n",
       "  <th>Kurtosis:</th>      <td> 2.422</td>  <th>  Cond. No.          </th> <td>    1.30</td> \n",
       "</tr>\n",
       "</table><br/><br/>Warnings:<br/>[1] Standard Errors assume that the covariance matrix of the errors is correctly specified."
      ],
      "text/plain": [
       "<class 'statsmodels.iolib.summary.Summary'>\n",
       "\"\"\"\n",
       "                            OLS Regression Results                            \n",
       "==============================================================================\n",
       "Dep. Variable:               rconarmy   R-squared:                       0.018\n",
       "Model:                            OLS   Adj. R-squared:                  0.017\n",
       "Method:                 Least Squares   F-statistic:                     24.15\n",
       "Date:                Sun, 17 Jun 2018   Prob (F-statistic):           1.69e-28\n",
       "Time:                        16:15:00   Log-Likelihood:                -11453.\n",
       "No. Observations:                8122   AIC:                         2.292e+04\n",
       "Df Residuals:                    8115   BIC:                         2.297e+04\n",
       "Df Model:                           6                                         \n",
       "Covariance Type:            nonrobust                                         \n",
       "==============================================================================\n",
       "                 coef    std err          t      P>|t|      [0.025      0.975]\n",
       "------------------------------------------------------------------------------\n",
       "Intercept   1.618e-15      0.011   1.47e-13      1.000      -0.022       0.022\n",
       "age            0.0073      0.011      0.650      0.516      -0.015       0.029\n",
       "sex           -0.0804      0.011     -7.255      0.000      -0.102      -0.059\n",
       "educ          -0.0490      0.011     -4.419      0.000      -0.071      -0.027\n",
       "attend         0.0618      0.011      5.465      0.000       0.040       0.084\n",
       "south          0.0575      0.011      5.159      0.000       0.036       0.079\n",
       "year           0.0391      0.011      3.546      0.000       0.017       0.061\n",
       "==============================================================================\n",
       "Omnibus:                      705.487   Durbin-Watson:                   1.911\n",
       "Prob(Omnibus):                  0.000   Jarque-Bera (JB):              670.504\n",
       "Skew:                          -0.642   Prob(JB):                    2.52e-146\n",
       "Kurtosis:                       2.422   Cond. No.                         1.30\n",
       "==============================================================================\n",
       "\n",
       "Warnings:\n",
       "[1] Standard Errors assume that the covariance matrix of the errors is correctly specified.\n",
       "\"\"\""
      ]
     },
     "execution_count": 244,
     "metadata": {},
     "output_type": "execute_result"
    }
   ],
   "source": [
    "smf.ols('rconarmy ~ age + sex + educ + attend + south + year', data = sub00_standardized).fit().summary()"
   ]
  },
  {
   "cell_type": "markdown",
   "metadata": {},
   "source": [
    "## Comparing coefficients and Z-scores\n",
    "\n",
    "(slides 119-120)\n",
    "\n",
    "Although the `broom` package does not exist in Python, we can apply the same `tidy` function by hand to achieve the same results:"
   ]
  },
  {
   "cell_type": "code",
   "execution_count": 228,
   "metadata": {},
   "outputs": [],
   "source": [
    "# obtain coefficient estimates and standard errors\n",
    "army70coef = army70.params\n",
    "army70se = army70.bse\n",
    "\n",
    "# put into dataframe and rename columns\n",
    "a70 = pd.concat([army70coef, army70se], axis = 1)\n",
    "a70.columns = ['e70', 'se70']"
   ]
  },
  {
   "cell_type": "code",
   "execution_count": 229,
   "metadata": {},
   "outputs": [],
   "source": [
    "# Do the same for the 2000-2010 model, but rename the columns differently\n",
    "army00coef = army00.params\n",
    "army00se = army00.bse\n",
    "a00 = pd.concat([army00coef, army00se], axis = 1)\n",
    "a00.columns = ['estimate', 'std_error']"
   ]
  },
  {
   "cell_type": "code",
   "execution_count": 230,
   "metadata": {},
   "outputs": [],
   "source": [
    "# concatenate results into one pandas dataframe\n",
    "new = pd.concat([a70, a00], axis = 1)"
   ]
  },
  {
   "cell_type": "code",
   "execution_count": 232,
   "metadata": {},
   "outputs": [],
   "source": [
    "# applying the Z formula\n",
    "new['b1minusb2'] = new.e70 - new.estimate\n",
    "new['denom'] = np.sqrt(np.square(new.se70)+np.square(new.std_error))\n",
    "new['Z'] = new.b1minusb2/new.denom\n",
    "new['pvalue'] = 1 - stats.norm.cdf(new.Z)"
   ]
  },
  {
   "cell_type": "code",
   "execution_count": 233,
   "metadata": {},
   "outputs": [],
   "source": [
    "newest = new[['e70', 'estimate', 'Z', 'pvalue']]"
   ]
  },
  {
   "cell_type": "code",
   "execution_count": 234,
   "metadata": {},
   "outputs": [
    {
     "data": {
      "text/html": [
       "<div>\n",
       "<style scoped>\n",
       "    .dataframe tbody tr th:only-of-type {\n",
       "        vertical-align: middle;\n",
       "    }\n",
       "\n",
       "    .dataframe tbody tr th {\n",
       "        vertical-align: top;\n",
       "    }\n",
       "\n",
       "    .dataframe thead th {\n",
       "        text-align: right;\n",
       "    }\n",
       "</style>\n",
       "<table border=\"1\" class=\"dataframe\">\n",
       "  <thead>\n",
       "    <tr style=\"text-align: right;\">\n",
       "      <th></th>\n",
       "      <th>e70</th>\n",
       "      <th>estimate</th>\n",
       "      <th>Z</th>\n",
       "      <th>pvalue</th>\n",
       "    </tr>\n",
       "  </thead>\n",
       "  <tbody>\n",
       "    <tr>\n",
       "      <th>Intercept</th>\n",
       "      <td>20.304835</td>\n",
       "      <td>-12.408412</td>\n",
       "      <td>4.542912</td>\n",
       "      <td>0.000003</td>\n",
       "    </tr>\n",
       "    <tr>\n",
       "      <th>C(sex)[T.2]</th>\n",
       "      <td>-0.038995</td>\n",
       "      <td>-0.107963</td>\n",
       "      <td>3.448804</td>\n",
       "      <td>0.000282</td>\n",
       "    </tr>\n",
       "    <tr>\n",
       "      <th>age</th>\n",
       "      <td>0.002067</td>\n",
       "      <td>0.000281</td>\n",
       "      <td>3.016570</td>\n",
       "      <td>0.001278</td>\n",
       "    </tr>\n",
       "    <tr>\n",
       "      <th>educ</th>\n",
       "      <td>-0.030111</td>\n",
       "      <td>-0.010776</td>\n",
       "      <td>-5.866964</td>\n",
       "      <td>1.000000</td>\n",
       "    </tr>\n",
       "    <tr>\n",
       "      <th>attend</th>\n",
       "      <td>0.015188</td>\n",
       "      <td>0.014972</td>\n",
       "      <td>0.057579</td>\n",
       "      <td>0.477042</td>\n",
       "    </tr>\n",
       "    <tr>\n",
       "      <th>south</th>\n",
       "      <td>0.132252</td>\n",
       "      <td>0.079490</td>\n",
       "      <td>2.512355</td>\n",
       "      <td>0.005996</td>\n",
       "    </tr>\n",
       "    <tr>\n",
       "      <th>year</th>\n",
       "      <td>-0.009062</td>\n",
       "      <td>0.007433</td>\n",
       "      <td>-4.547583</td>\n",
       "      <td>0.999997</td>\n",
       "    </tr>\n",
       "  </tbody>\n",
       "</table>\n",
       "</div>"
      ],
      "text/plain": [
       "                   e70   estimate         Z    pvalue\n",
       "Intercept    20.304835 -12.408412  4.542912  0.000003\n",
       "C(sex)[T.2]  -0.038995  -0.107963  3.448804  0.000282\n",
       "age           0.002067   0.000281  3.016570  0.001278\n",
       "educ         -0.030111  -0.010776 -5.866964  1.000000\n",
       "attend        0.015188   0.014972  0.057579  0.477042\n",
       "south         0.132252   0.079490  2.512355  0.005996\n",
       "year         -0.009062   0.007433 -4.547583  0.999997"
      ]
     },
     "execution_count": 234,
     "metadata": {},
     "output_type": "execute_result"
    }
   ],
   "source": [
    "newest"
   ]
  },
  {
   "cell_type": "markdown",
   "metadata": {},
   "source": [
    "## Visualizaing increased confidence in the military\n",
    "\n",
    "(slides 122-123)"
   ]
  },
  {
   "cell_type": "code",
   "execution_count": 235,
   "metadata": {},
   "outputs": [],
   "source": [
    "by_year = gss.groupby('year').mean()['rconarmy']"
   ]
  },
  {
   "cell_type": "code",
   "execution_count": 236,
   "metadata": {},
   "outputs": [
    {
     "data": {
      "text/plain": [
       "Text(0,0.5,'mean')"
      ]
     },
     "execution_count": 236,
     "metadata": {},
     "output_type": "execute_result"
    },
    {
     "data": {
      "image/png": "[encoded data removed]",
      "text/plain": [
       "<Figure size 432x288 with 1 Axes>"
      ]
     },
     "metadata": {},
     "output_type": "display_data"
    }
   ],
   "source": [
    "by_year.plot().set_ylabel('mean')"
   ]
  },
  {
   "cell_type": "code",
   "execution_count": null,
   "metadata": {},
   "outputs": [],
   "source": []
  }
 ],
 "metadata": {
  "kernelspec": {
   "display_name": "py36",
   "language": "python",
   "name": "py36"
  },
  "language_info": {
   "codemirror_mode": {
    "name": "ipython",
    "version": 3
   },
   "file_extension": ".py",
   "mimetype": "text/x-python",
   "name": "python",
   "nbconvert_exporter": "python",
   "pygments_lexer": "ipython3",
   "version": "3.6.5"
  }
 },
 "nbformat": 4,
 "nbformat_minor": 2
}
